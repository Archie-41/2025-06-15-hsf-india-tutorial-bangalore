{
 "cells": [
  {
   "cell_type": "markdown",
   "id": "483fbd02-7472-4a1a-92c5-c0e47e70cd9e",
   "metadata": {
    "editable": true,
    "slideshow": {
     "slide_type": "slide"
    },
    "tags": []
   },
   "source": [
    "# Lesson 2: Array-oriented programming"
   ]
  },
  {
   "cell_type": "markdown",
   "id": "73aaa871-6e85-43d9-8d31-41f46b6be510",
   "metadata": {
    "editable": true,
    "jp-MarkdownHeadingCollapsed": true,
    "slideshow": {
     "slide_type": "slide"
    },
    "tags": []
   },
   "source": [
    "## Programming paradigms"
   ]
  },
  {
   "cell_type": "markdown",
   "id": "3e8e66c2-4ecb-4af0-8f8c-5d241a70b983",
   "metadata": {
    "editable": true,
    "slideshow": {
     "slide_type": ""
    },
    "tags": []
   },
   "source": [
    "<br>"
   ]
  },
  {
   "cell_type": "markdown",
   "id": "b7469b25-e77f-4c60-8acc-a8c7d5cc979e",
   "metadata": {
    "editable": true,
    "slideshow": {
     "slide_type": ""
    },
    "tags": []
   },
   "source": [
    "Programming paradigms, such as \"imperative,\" \"object-oriented,\" and \"functional,\" are general styles of programming."
   ]
  },
  {
   "cell_type": "markdown",
   "id": "d6ef7338-8266-4017-b077-6444684a7a18",
   "metadata": {
    "editable": true,
    "slideshow": {
     "slide_type": ""
    },
    "tags": []
   },
   "source": [
    "<br><br>"
   ]
  },
  {
   "cell_type": "markdown",
   "id": "ac0f8a44-ec7f-4aab-9fef-305ab2cff209",
   "metadata": {
    "editable": true,
    "slideshow": {
     "slide_type": "fragment"
    },
    "tags": []
   },
   "source": [
    "Some programming languages were designed to enable or encourage some paradigms over others. For example, C++ enabled object-oriented programming in C."
   ]
  },
  {
   "cell_type": "markdown",
   "id": "502856d7-cee6-4172-a6c0-b5fd95b6e08d",
   "metadata": {
    "editable": true,
    "slideshow": {
     "slide_type": ""
    },
    "tags": []
   },
   "source": [
    "<br><br>"
   ]
  },
  {
   "cell_type": "markdown",
   "id": "69b2d081-7ed6-4650-97ab-d6810f41a742",
   "metadata": {
    "editable": true,
    "slideshow": {
     "slide_type": "fragment"
    },
    "tags": []
   },
   "source": [
    "In array-oriented programming, the primary data type is an array, and most functions perform one operation on all the elements of the array."
   ]
  },
  {
   "cell_type": "markdown",
   "id": "6c172fa6-f48e-4878-abc5-c95bee93b1d5",
   "metadata": {
    "editable": true,
    "slideshow": {
     "slide_type": ""
    },
    "tags": []
   },
   "source": [
    "<br><br>"
   ]
  },
  {
   "cell_type": "code",
   "execution_count": 1,
   "id": "07b1e19c-4ca8-40e0-bbee-917b2fb256fa",
   "metadata": {
    "editable": true,
    "slideshow": {
     "slide_type": "fragment"
    },
    "tags": []
   },
   "outputs": [],
   "source": [
    "import numpy as np"
   ]
  },
  {
   "cell_type": "markdown",
   "id": "d6a8a4dd-db96-486c-b7fc-507a0b4acdf7",
   "metadata": {
    "editable": true,
    "slideshow": {
     "slide_type": "slide"
    },
    "tags": []
   },
   "source": [
    "This is _imperative_ programming:"
   ]
  },
  {
   "cell_type": "markdown",
   "id": "4feaae42-f35e-4258-a05a-13feec09252a",
   "metadata": {
    "editable": true,
    "slideshow": {
     "slide_type": ""
    },
    "tags": []
   },
   "source": [
    "<br>"
   ]
  },
  {
   "cell_type": "code",
   "execution_count": 2,
   "id": "3801eb8a-2641-4f75-997d-5e5611b848e6",
   "metadata": {
    "editable": true,
    "slideshow": {
     "slide_type": ""
    },
    "tags": []
   },
   "outputs": [
    {
     "data": {
      "text/plain": [
       "array([ 1,  4,  9, 16, 25, 36, 49, 64, 81])"
      ]
     },
     "execution_count": 2,
     "metadata": {},
     "output_type": "execute_result"
    }
   ],
   "source": [
    "input_data = np.array([1, 2, 3, 4, 5, 6, 7, 8, 9])\n",
    "output_data = np.array([0, 0, 0, 0, 0, 0, 0, 0, 0])\n",
    "\n",
    "for i in range(len(input_data)):             # explicitly specifies an order of execution\n",
    "    output_data[i] = input_data[i]**2        # user says what happens to each element\n",
    "\n",
    "output_data"
   ]
  },
  {
   "cell_type": "markdown",
   "id": "b1791585-891b-4045-ac55-65eb2bf17c96",
   "metadata": {
    "editable": true,
    "slideshow": {
     "slide_type": "slide"
    },
    "tags": []
   },
   "source": [
    "This is _functional_ programming:"
   ]
  },
  {
   "cell_type": "markdown",
   "id": "850d27b6-4b39-465b-a63f-0dac92791474",
   "metadata": {
    "editable": true,
    "slideshow": {
     "slide_type": ""
    },
    "tags": []
   },
   "source": [
    "<br>"
   ]
  },
  {
   "cell_type": "code",
   "execution_count": 3,
   "id": "3d38594a-64e1-408c-b862-edd6643f5dd3",
   "metadata": {
    "editable": true,
    "slideshow": {
     "slide_type": ""
    },
    "tags": []
   },
   "outputs": [
    {
     "data": {
      "text/plain": [
       "array([ 1,  4,  9, 16, 25, 36, 49, 64, 81])"
      ]
     },
     "execution_count": 3,
     "metadata": {},
     "output_type": "execute_result"
    }
   ],
   "source": [
    "input_data = np.array([1, 2, 3, 4, 5, 6, 7, 8, 9])\n",
    "\n",
    "output_data = np.fromiter(\n",
    "    map(lambda x: x**2, input_data), int     # still focused on the individual element \"x\"\n",
    ")\n",
    "\n",
    "output_data"
   ]
  },
  {
   "cell_type": "markdown",
   "id": "ba44d80b-d0f0-4802-b1d7-175c1e571733",
   "metadata": {
    "editable": true,
    "slideshow": {
     "slide_type": "slide"
    },
    "tags": []
   },
   "source": [
    "And this is _array-oriented_ programming:"
   ]
  },
  {
   "cell_type": "markdown",
   "id": "f7eb5048-fbcd-412a-8df0-3fce877d2ff4",
   "metadata": {
    "editable": true,
    "slideshow": {
     "slide_type": ""
    },
    "tags": []
   },
   "source": [
    "<br>"
   ]
  },
  {
   "cell_type": "code",
   "execution_count": 4,
   "id": "34bc1777-f0b4-4134-a5d4-02443ffb25b6",
   "metadata": {
    "editable": true,
    "slideshow": {
     "slide_type": ""
    },
    "tags": []
   },
   "outputs": [
    {
     "data": {
      "text/plain": [
       "array([ 1,  4,  9, 16, 25, 36, 49, 64, 81])"
      ]
     },
     "execution_count": 4,
     "metadata": {},
     "output_type": "execute_result"
    }
   ],
   "source": [
    "input_data = np.array([1, 2, 3, 4, 5, 6, 7, 8, 9])\n",
    "\n",
    "output_data = input_data**2                  # implicit indexes, no individual elements\n",
    "\n",
    "output_data"
   ]
  },
  {
   "cell_type": "markdown",
   "id": "7bdac34b-146b-4d40-9844-3adc0a4a0130",
   "metadata": {
    "editable": true,
    "slideshow": {
     "slide_type": "slide"
    },
    "tags": []
   },
   "source": [
    "Programming paradigms are not sharply defined. A single language and even a single codebase can use several paradigms."
   ]
  },
  {
   "cell_type": "markdown",
   "id": "8173297b-b38f-473e-9aaf-6596430f4fd7",
   "metadata": {
    "editable": true,
    "slideshow": {
     "slide_type": ""
    },
    "tags": []
   },
   "source": [
    "<br>"
   ]
  },
  {
   "cell_type": "markdown",
   "id": "c39e239c-88ee-4658-a1a8-0c5d86703813",
   "metadata": {
    "editable": true,
    "slideshow": {
     "slide_type": "fragment"
    },
    "tags": []
   },
   "source": [
    "They are _styles_, and they're useful because they each bring different programming concepts into the foreground:\n",
    "\n",
    "| Paradigm | Emphasizes |\n",
    "|:-:|:-:|\n",
    "| imperative/procedural | low-level algorithms |\n",
    "| object-oriented | large-scale program structure |\n",
    "| actor-based | temporal locality |\n",
    "| literate | human instruction |\n",
    "| event-driven | cause-and-effect |\n",
    "| declarative | properties of desired result |\n",
    "| symbolic | formula transformations |\n",
    "| functional | data transformations |\n",
    "| array-oriented | data distributions |"
   ]
  },
  {
   "cell_type": "markdown",
   "id": "8b0c10ad-44cf-45b7-a5a3-76f3b13e66a1",
   "metadata": {
    "editable": true,
    "slideshow": {
     "slide_type": "slide"
    },
    "tags": []
   },
   "source": [
    "## What is array-oriented programming good for?"
   ]
  },
  {
   "cell_type": "markdown",
   "id": "9c0818ea-53f4-4ce6-b733-e9ef7f35fb89",
   "metadata": {
    "editable": true,
    "slideshow": {
     "slide_type": ""
    },
    "tags": []
   },
   "source": [
    "<br>"
   ]
  },
  {
   "cell_type": "markdown",
   "id": "5f3c4c4f-0ebb-43df-b61d-b7f61e626975",
   "metadata": {
    "editable": true,
    "slideshow": {
     "slide_type": ""
    },
    "tags": []
   },
   "source": [
    "All of the languages/major libraries that emphasize array-oriented programming (that I know of):"
   ]
  },
  {
   "cell_type": "markdown",
   "id": "66acebf1-a410-43b0-bcac-8bcdd8d15a69",
   "metadata": {
    "editable": true,
    "slideshow": {
     "slide_type": ""
    },
    "tags": []
   },
   "source": [
    "<br>"
   ]
  },
  {
   "cell_type": "markdown",
   "id": "98ccf2a1-8045-416c-bc00-da0b73038640",
   "metadata": {
    "tags": []
   },
   "source": [
    "<img src=\"../img/apl-timeline.svg\" width=\"100%\">"
   ]
  },
  {
   "cell_type": "markdown",
   "id": "26924237-c089-41cf-b41f-c2675571c3b1",
   "metadata": {
    "editable": true,
    "slideshow": {
     "slide_type": "slide"
    },
    "tags": []
   },
   "source": [
    "Almost all of them are intended as _interactive data-analysis_ environments.\n",
    "\n",
    "(Fortran-90 is the only one that is not interactive.)"
   ]
  },
  {
   "cell_type": "markdown",
   "id": "567418f4-b6b2-406d-9e7a-b660c676fb41",
   "metadata": {
    "editable": true,
    "slideshow": {
     "slide_type": ""
    },
    "tags": []
   },
   "source": [
    "<br><br>"
   ]
  },
  {
   "cell_type": "markdown",
   "id": "5da5d0aa-f2cc-4c44-9a71-afc6cad6c48d",
   "metadata": {
    "editable": true,
    "slideshow": {
     "slide_type": "fragment"
    },
    "tags": []
   },
   "source": [
    "Almost all feature:\n",
    "\n",
    "* interactive REPL (read-evaluate-print loop)\n",
    "* concise notation\n",
    "* unabashedly mathematical"
   ]
  },
  {
   "cell_type": "markdown",
   "id": "66dba759-4ec7-417c-ad22-3cb7b8c25bd9",
   "metadata": {
    "editable": true,
    "slideshow": {
     "slide_type": "slide"
    },
    "tags": []
   },
   "source": [
    "### The grandfather: APL"
   ]
  },
  {
   "cell_type": "markdown",
   "id": "de4cc366-919a-4d47-9c59-01cd1ab64882",
   "metadata": {
    "editable": true,
    "slideshow": {
     "slide_type": ""
    },
    "tags": []
   },
   "source": [
    "<table><tr>\n",
    "    <td width=\"25%\"><img src=\"../img/apl-book.png\" width=\"100%\"></td>\n",
    "    <td width=\"50%\"><img src=\"../img/apl-keyboard.jpg\" width=\"100%\"></td>\n",
    "</tr></table>"
   ]
  },
  {
   "cell_type": "code",
   "execution_count": 5,
   "id": "d0485627-e7eb-494a-9641-3c01dfda562f",
   "metadata": {
    "editable": true,
    "slideshow": {
     "slide_type": "slide"
    },
    "tags": []
   },
   "outputs": [
    {
     "data": {
      "text/html": [
       "<div style=\"overflow: hidden;\"><iframe src=\"https://tryapl.org/\" width=\"100%\" height=\"380\" scrolling=\"no\" style=\"border: none;\"></div>\n"
      ],
      "text/plain": [
       "<IPython.core.display.HTML object>"
      ]
     },
     "metadata": {},
     "output_type": "display_data"
    }
   ],
   "source": [
    "%%html\n",
    "<div style=\"overflow: hidden;\"><iframe src=\"https://tryapl.org/\" width=\"100%\" height=\"380\" scrolling=\"no\" style=\"border: none;\"></div>"
   ]
  },
  {
   "cell_type": "markdown",
   "id": "d59cdc86-51e6-43d0-aa8f-4dbd695f86e8",
   "metadata": {
    "editable": true,
    "slideshow": {
     "slide_type": "slide"
    },
    "tags": []
   },
   "source": [
    "**Quizlet:** Translate the following NumPy operations into APL."
   ]
  },
  {
   "cell_type": "markdown",
   "id": "cd73bc3d-93af-4f44-9da3-397ca3947851",
   "metadata": {
    "editable": true,
    "slideshow": {
     "slide_type": ""
    },
    "tags": []
   },
   "source": [
    "<br>"
   ]
  },
  {
   "cell_type": "code",
   "execution_count": 6,
   "id": "c4c4984c-991f-4be9-a06c-6f6c4b4b5768",
   "metadata": {
    "tags": []
   },
   "outputs": [
    {
     "data": {
      "text/plain": [
       "array([0, 1, 2, 3, 4, 5, 6, 7, 8, 9])"
      ]
     },
     "execution_count": 6,
     "metadata": {},
     "output_type": "execute_result"
    }
   ],
   "source": [
    "np.arange(10)"
   ]
  },
  {
   "cell_type": "markdown",
   "id": "9c919399-0036-42da-bb28-e9968c119ccb",
   "metadata": {},
   "source": [
    "<br>"
   ]
  },
  {
   "cell_type": "code",
   "execution_count": 7,
   "id": "6b889f0f-c1a9-47cc-8dba-1c60282c79f1",
   "metadata": {
    "tags": []
   },
   "outputs": [
    {
     "data": {
      "text/plain": [
       "45"
      ]
     },
     "execution_count": 7,
     "metadata": {},
     "output_type": "execute_result"
    }
   ],
   "source": [
    "np.sum(np.arange(10))"
   ]
  },
  {
   "cell_type": "markdown",
   "id": "077e679c-d4eb-4b30-9f7d-bc11c61558ca",
   "metadata": {},
   "source": [
    "<br>"
   ]
  },
  {
   "cell_type": "code",
   "execution_count": 8,
   "id": "59d23cef-f732-4c59-b264-871c8c62b161",
   "metadata": {
    "editable": true,
    "slideshow": {
     "slide_type": ""
    },
    "tags": []
   },
   "outputs": [
    {
     "data": {
      "text/plain": [
       "array([ 0,  1,  3,  6, 10, 15, 21, 28, 36, 45])"
      ]
     },
     "execution_count": 8,
     "metadata": {},
     "output_type": "execute_result"
    }
   ],
   "source": [
    "np.cumsum(np.arange(10))"
   ]
  },
  {
   "cell_type": "code",
   "execution_count": 9,
   "id": "c05035e8-affb-447c-a4d1-087db23e68ca",
   "metadata": {},
   "outputs": [
    {
     "data": {
      "text/plain": [
       "array([ 0,  1,  3,  6, 10])"
      ]
     },
     "execution_count": 9,
     "metadata": {},
     "output_type": "execute_result"
    }
   ],
   "source": [
    "np.cumsum(np.arange(5))"
   ]
  },
  {
   "cell_type": "markdown",
   "id": "6a129b63-76e7-4965-9674-305510f77c3e",
   "metadata": {
    "editable": true,
    "slideshow": {
     "slide_type": "slide"
    },
    "tags": []
   },
   "source": [
    "**Answers:**\n",
    "\n",
    "```apl\n",
    "      (⍳10) - 1\n",
    "0 1 2 3 4 5 6 7 8 9\n",
    "\n",
    "      +/(⍳10) - 1\n",
    "45\n",
    "\n",
    "      +\\(⍳10) - 1\n",
    "0 1 3 6 10 15 21 28 36 45\n",
    "```"
   ]
  },
  {
   "cell_type": "markdown",
   "id": "7b0115dd-ff4f-48d0-9899-9efdf4c38bdd",
   "metadata": {
    "editable": true,
    "slideshow": {
     "slide_type": "fragment"
    },
    "tags": []
   },
   "source": [
    "<br>"
   ]
  },
  {
   "cell_type": "markdown",
   "id": "5fab0ed4-a6b5-4342-8e24-bbb2ae578dec",
   "metadata": {
    "editable": true,
    "slideshow": {
     "slide_type": ""
    },
    "tags": []
   },
   "source": [
    "APL was too concise! Modern array-oriented programming is looking for the right balance.\n",
    "\n",
    "<center>\n",
    "<img src=\"../img/tshirt.jpg\" width=\"20%\">\n",
    "</center>"
   ]
  },
  {
   "cell_type": "markdown",
   "id": "70c8226e-2008-44ed-921e-9ffa3a1539ae",
   "metadata": {
    "editable": true,
    "slideshow": {
     "slide_type": "slide"
    },
    "tags": []
   },
   "source": [
    "### Distributions and interactivity"
   ]
  },
  {
   "cell_type": "markdown",
   "id": "f74d19c5-9ba3-4c1c-b404-a50df348af00",
   "metadata": {
    "editable": true,
    "slideshow": {
     "slide_type": ""
    },
    "tags": []
   },
   "source": [
    "Array-oriented languages bring data _distributions_ to the foreground."
   ]
  },
  {
   "cell_type": "markdown",
   "id": "b7201932-ca10-400c-9e69-f81b18c56fcb",
   "metadata": {
    "editable": true,
    "slideshow": {
     "slide_type": ""
    },
    "tags": []
   },
   "source": [
    "<br>"
   ]
  },
  {
   "cell_type": "code",
   "execution_count": 10,
   "id": "4d7248a9-752a-47fa-b7bd-9936efdea633",
   "metadata": {
    "editable": true,
    "slideshow": {
     "slide_type": ""
    },
    "tags": []
   },
   "outputs": [],
   "source": [
    "from hist import Hist  # histogram library"
   ]
  },
  {
   "cell_type": "markdown",
   "id": "bfede4a3-6686-4fb3-aa53-8513690c7a60",
   "metadata": {
    "editable": true,
    "slideshow": {
     "slide_type": "fragment"
    },
    "tags": []
   },
   "source": [
    "<br>"
   ]
  },
  {
   "cell_type": "markdown",
   "id": "2b0bae8c-a8f5-4fc3-985c-7fa320392cbb",
   "metadata": {
    "editable": true,
    "slideshow": {
     "slide_type": ""
    },
    "tags": []
   },
   "source": [
    "Given a large dataset..."
   ]
  },
  {
   "cell_type": "code",
   "execution_count": 11,
   "id": "6f86e93d-324c-40de-9f02-078a861c011b",
   "metadata": {
    "tags": []
   },
   "outputs": [],
   "source": [
    "dataset = np.random.normal(0, 1, 1000000)  # one MILLION data points"
   ]
  },
  {
   "cell_type": "code",
   "execution_count": 12,
   "id": "c4e1381a-8935-47a2-a245-764db03a1c5f",
   "metadata": {},
   "outputs": [
    {
     "data": {
      "text/plain": [
       "numpy.ndarray"
      ]
     },
     "execution_count": 12,
     "metadata": {},
     "output_type": "execute_result"
    }
   ],
   "source": [
    "type(dataset)"
   ]
  },
  {
   "cell_type": "markdown",
   "id": "08a62ce4-5ec6-46e2-ae9b-d64b61cfd90d",
   "metadata": {
    "editable": true,
    "slideshow": {
     "slide_type": "fragment"
    },
    "tags": []
   },
   "source": []
  },
  {
   "cell_type": "markdown",
   "id": "e848b47d-0baa-4141-94be-881d66141d7f",
   "metadata": {
    "editable": true,
    "slideshow": {
     "slide_type": ""
    },
    "tags": []
   },
   "source": [
    "How are the data _distributed_?"
   ]
  },
  {
   "cell_type": "code",
   "execution_count": 13,
   "id": "5dfe4f17-4cef-4846-be47-9bbe479edbe2",
   "metadata": {
    "tags": []
   },
   "outputs": [
    {
     "data": {
      "text/html": [
       "<html>\n",
       "<div style=\"display:flex; align-items:center;\">\n",
       "<div style=\"width:290px;\">\n",
       "<svg xmlns=\"http://www.w3.org/2000/svg\" viewBox=\"-10 -105 270 120\">\n",
       "<line x1=\"-5\" y1=\"0\" x2=\"255\" y2=\"0\" style=\"fill:none;stroke-width:2;stroke:currentColor\"/>\n",
       "<text text-anchor=\"middle\" x=\"0\" y=\"15\" style=\"fill:currentColor;\">\n",
       "-5\n",
       "</text>\n",
       "<text text-anchor=\"middle\" x=\"250\" y=\"15\" style=\"fill:currentColor;\">\n",
       "5\n",
       "</text>\n",
       "<text text-anchor=\"middle\" x=\"125.0\" y=\"15\" style=\"fill:currentColor;\">\n",
       "Axis 0\n",
       "</text>\n",
       "<polyline points=\"  0,0   0,-0 2.5,-0 2.5,-0   5,-0   5,-0 7.5,-0 7.5,-0  10,-0  10,-0.0025 12.5,-0.0025 12.5,-0.0025  15,-0.0025  15,-0.01 17.5,-0.01 17.5,-0.005  20,-0.005  20,-0.0175 22.5,-0.0175 22.5,-0.03  25,-0.03  25,-0.025 27.5,-0.025 27.5,-0.07  30,-0.07  30,-0.0775 32.5,-0.0775 32.5,-0.107  35,-0.107  35,-0.17 37.5,-0.17 37.5,-0.27  40,-0.27  40,-0.362 42.5,-0.362 42.5,-0.547  45,-0.547  45,-0.742 47.5,-0.742 47.5,-0.957  50,-0.957  50,-1.24 52.5,-1.24 52.5,-1.72  55,-1.72  55,-2.22 57.5,-2.22 57.5,-2.95  60,-2.95  60,-3.89 62.5,-3.89 62.5,-5.06  65,-5.06  65,-6.23 67.5,-6.23 67.5,-7.99  70,-7.99  70,-10 72.5,-10 72.5,-12.1  75,-12.1  75,-15.3 77.5,-15.3 77.5,-18  80,-18  80,-21.9 82.5,-21.9 82.5,-25.6  85,-25.6  85,-30 87.5,-30 87.5,-35  90,-35  90,-40.5 92.5,-40.5 92.5,-45.7  95,-45.7  95,-51.7 97.5,-51.7 97.5,-57.2 100,-57.2 100,-63.3 102.5,-63.3 102.5,-68.8 105,-68.8 105,-75.7 107.5,-75.7 107.5,-80.2 110,-80.2 110,-86.6 112.5,-86.6 112.5,-89.8 115,-89.8 115,-94 117.5,-94 117.5,-96.1 120,-96.1 120,-99.3 122.5,-99.3 122.5,-99.1 125,-99.1 125,-100 127.5,-100 127.5,-98.3 130,-98.3 130,-96.8 132.5,-96.8 132.5,-93.9 135,-93.9 135,-90.3 137.5,-90.3 137.5,-86.1 140,-86.1 140,-80.6 142.5,-80.6 142.5,-75 145,-75 145,-69.4 147.5,-69.4 147.5,-62.4 150,-62.4 150,-57.8 152.5,-57.8 152.5,-51.3 155,-51.3 155,-45.6 157.5,-45.6 157.5,-39.7 160,-39.7 160,-34.8 162.5,-34.8 162.5,-30.1 165,-30.1 165,-25.6 167.5,-25.6 167.5,-21.7 170,-21.7 170,-18.2 172.5,-18.2 172.5,-14.8 175,-14.8 175,-12.3 177.5,-12.3 177.5,-9.73 180,-9.73 180,-7.82 182.5,-7.82 182.5,-6.37 185,-6.37 185,-4.95 187.5,-4.95 187.5,-3.72 190,-3.72 190,-3.01 192.5,-3.01 192.5,-2.37 195,-2.37 195,-1.81 197.5,-1.81 197.5,-1.28 200,-1.28 200,-0.967 202.5,-0.967 202.5,-0.655 205,-0.655 205,-0.477 207.5,-0.477 207.5,-0.37 210,-0.37 210,-0.3 212.5,-0.3 212.5,-0.21 215,-0.21 215,-0.107 217.5,-0.107 217.5,-0.08 220,-0.08 220,-0.07 222.5,-0.07 222.5,-0.0475 225,-0.0475 225,-0.0375 227.5,-0.0375 227.5,-0.0175 230,-0.0175 230,-0.0075 232.5,-0.0075 232.5,-0.0125 235,-0.0125 235,-0.005 237.5,-0.005 237.5,-0 240,-0 240,-0.005 242.5,-0.005 242.5,-0 245,-0 245,-0.0025 247.5,-0.0025 247.5,-0 250,-0 250,0\" style=\"fill:none; stroke:currentColor;\"/>\n",
       "</svg>\n",
       "</div>\n",
       "<div style=\"flex=grow:1;\">\n",
       "Regular(100, -5, 5, label='Axis 0')<br/>\n",
       "<hr style=\"margin-top:.2em; margin-bottom:.2em;\"/>\n",
       "Double() Σ=1000000.0\n",
       "\n",
       "</div>\n",
       "</div>\n",
       "</html>"
      ],
      "text/plain": [
       "Hist(Regular(100, -5, 5, label='Axis 0'), storage=Double()) # Sum: 1000000.0"
      ]
     },
     "execution_count": 13,
     "metadata": {},
     "output_type": "execute_result"
    }
   ],
   "source": [
    "Hist.new.Reg(100, -5, 5).Double().fill(dataset)"
   ]
  },
  {
   "cell_type": "markdown",
   "id": "5d90d8b6-b03a-4cd5-8a10-7255329bb3f9",
   "metadata": {
    "editable": true,
    "slideshow": {
     "slide_type": "slide"
    },
    "tags": []
   },
   "source": [
    "What happens if we apply a function to _all values in the distribution_?"
   ]
  },
  {
   "cell_type": "code",
   "execution_count": 14,
   "id": "ce4b9fb2-a311-4755-b54c-ac76b63a1865",
   "metadata": {
    "tags": []
   },
   "outputs": [],
   "source": [
    "dataset2 = dataset**2"
   ]
  },
  {
   "cell_type": "markdown",
   "id": "c3c27586-aa38-4b3e-a5a1-473baee196a3",
   "metadata": {
    "editable": true,
    "slideshow": {
     "slide_type": ""
    },
    "tags": []
   },
   "source": [
    "<br>"
   ]
  },
  {
   "cell_type": "code",
   "execution_count": 15,
   "id": "159a85b2-bad8-469b-9cca-2aa6402e3973",
   "metadata": {
    "tags": []
   },
   "outputs": [
    {
     "data": {
      "text/html": [
       "<html>\n",
       "<div style=\"display:flex; align-items:center;\">\n",
       "<div style=\"width:290px;\">\n",
       "<svg xmlns=\"http://www.w3.org/2000/svg\" viewBox=\"-10 -105 270 120\">\n",
       "<line x1=\"-5\" y1=\"0\" x2=\"255\" y2=\"0\" style=\"fill:none;stroke-width:2;stroke:currentColor\"/>\n",
       "<text text-anchor=\"middle\" x=\"0\" y=\"15\" style=\"fill:currentColor;\">\n",
       "-1\n",
       "</text>\n",
       "<text text-anchor=\"middle\" x=\"250\" y=\"15\" style=\"fill:currentColor;\">\n",
       "10\n",
       "</text>\n",
       "<text text-anchor=\"middle\" x=\"125.0\" y=\"15\" style=\"fill:currentColor;\">\n",
       "Axis 0\n",
       "</text>\n",
       "<polyline points=\"  0,0   0,-0 2.5,-0 2.5,-0   5,-0   5,-0 7.5,-0 7.5,-0  10,-0  10,-0 12.5,-0 12.5,-0  15,-0  15,-0 17.5,-0 17.5,-0  20,-0  20,-0 22.5,-0 22.5,-100  25,-100  25,-42.2 27.5,-42.2 27.5,-30.4  30,-30.4  30,-24 32.5,-24 32.5,-20  35,-20  35,-17.1 37.5,-17.1 37.5,-14.6  40,-14.6  40,-13 42.5,-13 42.5,-11.5  45,-11.5  45,-10.3 47.5,-10.3 47.5,-9.38  50,-9.38  50,-8.44 52.5,-8.44 52.5,-7.63  55,-7.63  55,-6.89 57.5,-6.89 57.5,-6.32  60,-6.32  60,-5.86 62.5,-5.86 62.5,-5.29  65,-5.29  65,-4.95 67.5,-4.95 67.5,-4.55  70,-4.55  70,-4.14 72.5,-4.14 72.5,-3.83  75,-3.83  75,-3.56 77.5,-3.56 77.5,-3.27  80,-3.27  80,-3.03 82.5,-3.03 82.5,-2.87  85,-2.87  85,-2.6 87.5,-2.6 87.5,-2.45  90,-2.45  90,-2.29 92.5,-2.29 92.5,-2.06  95,-2.06  95,-1.99 97.5,-1.99 97.5,-1.8 100,-1.8 100,-1.71 102.5,-1.71 102.5,-1.59 105,-1.59 105,-1.45 107.5,-1.45 107.5,-1.42 110,-1.42 110,-1.29 112.5,-1.29 112.5,-1.21 115,-1.21 115,-1.12 117.5,-1.12 117.5,-1.03 120,-1.03 120,-0.951 122.5,-0.951 122.5,-0.925 125,-0.925 125,-0.855 127.5,-0.855 127.5,-0.783 130,-0.783 130,-0.734 132.5,-0.734 132.5,-0.679 135,-0.679 135,-0.639 137.5,-0.639 137.5,-0.611 140,-0.611 140,-0.567 142.5,-0.567 142.5,-0.529 145,-0.529 145,-0.504 147.5,-0.504 147.5,-0.46 150,-0.46 150,-0.446 152.5,-0.446 152.5,-0.421 155,-0.421 155,-0.402 157.5,-0.402 157.5,-0.355 160,-0.355 160,-0.346 162.5,-0.346 162.5,-0.316 165,-0.316 165,-0.282 167.5,-0.282 167.5,-0.275 170,-0.275 170,-0.252 172.5,-0.252 172.5,-0.267 175,-0.267 175,-0.21 177.5,-0.21 177.5,-0.232 180,-0.232 180,-0.207 182.5,-0.207 182.5,-0.19 185,-0.19 185,-0.181 187.5,-0.181 187.5,-0.167 190,-0.167 190,-0.167 192.5,-0.167 192.5,-0.145 195,-0.145 195,-0.137 197.5,-0.137 197.5,-0.134 200,-0.134 200,-0.122 202.5,-0.122 202.5,-0.118 205,-0.118 205,-0.114 207.5,-0.114 207.5,-0.109 210,-0.109 210,-0.0974 212.5,-0.0974 212.5,-0.0902 215,-0.0902 215,-0.0845 217.5,-0.0845 217.5,-0.0845 220,-0.0845 220,-0.0721 222.5,-0.0721 222.5,-0.0692 225,-0.0692 225,-0.0648 227.5,-0.0648 227.5,-0.0692 230,-0.0692 230,-0.0656 232.5,-0.0656 232.5,-0.0491 235,-0.0491 235,-0.0479 237.5,-0.0479 237.5,-0.0531 240,-0.0531 240,-0.0407 242.5,-0.0407 242.5,-0.0475 245,-0.0475 245,-0.0419 247.5,-0.0419 247.5,-0.0362 250,-0.0362 250,0\" style=\"fill:none; stroke:currentColor;\"/>\n",
       "</svg>\n",
       "</div>\n",
       "<div style=\"flex=grow:1;\">\n",
       "Regular(100, -1, 10, label='Axis 0')<br/>\n",
       "<hr style=\"margin-top:.2em; margin-bottom:.2em;\"/>\n",
       "Double() Σ=998426.0 <em>(1000000.0 with flow)</em>\n",
       "\n",
       "</div>\n",
       "</div>\n",
       "</html>"
      ],
      "text/plain": [
       "Hist(Regular(100, -1, 10, label='Axis 0'), storage=Double()) # Sum: 998426.0 (1000000.0 with flow)"
      ]
     },
     "execution_count": 15,
     "metadata": {},
     "output_type": "execute_result"
    }
   ],
   "source": [
    "Hist.new.Reg(100, -1, 10).Double().fill(dataset2)"
   ]
  },
  {
   "cell_type": "markdown",
   "id": "66443d68-ec86-4223-8699-15219bf25412",
   "metadata": {
    "editable": true,
    "slideshow": {
     "slide_type": "slide"
    },
    "tags": []
   },
   "source": [
    "Can anyone guess what this distribution will look like?"
   ]
  },
  {
   "cell_type": "code",
   "execution_count": 16,
   "id": "1e294199-d310-4be1-a777-716d8511c574",
   "metadata": {
    "tags": []
   },
   "outputs": [],
   "source": [
    "dataset3 = np.sin(1/dataset2)"
   ]
  },
  {
   "cell_type": "markdown",
   "id": "ddbf0d8d-c9ce-460a-b8f9-6bc4fbf847fa",
   "metadata": {
    "editable": true,
    "slideshow": {
     "slide_type": ""
    },
    "tags": []
   },
   "source": [
    "<br>"
   ]
  },
  {
   "cell_type": "markdown",
   "id": "22f95ba9-1006-4cf8-9bd2-b9ef3defb218",
   "metadata": {
    "editable": true,
    "slideshow": {
     "slide_type": ""
    },
    "tags": []
   },
   "source": [
    "(I can't.)"
   ]
  },
  {
   "cell_type": "code",
   "execution_count": 17,
   "id": "97563702-b988-42bc-88b4-3e11ba65fda8",
   "metadata": {
    "tags": []
   },
   "outputs": [
    {
     "data": {
      "text/html": [
       "<html>\n",
       "<div style=\"display:flex; align-items:center;\">\n",
       "<div style=\"width:290px;\">\n",
       "<svg xmlns=\"http://www.w3.org/2000/svg\" viewBox=\"-10 -105 270 120\">\n",
       "<line x1=\"-5\" y1=\"0\" x2=\"255\" y2=\"0\" style=\"fill:none;stroke-width:2;stroke:currentColor\"/>\n",
       "<text text-anchor=\"middle\" x=\"0\" y=\"15\" style=\"fill:currentColor;\">\n",
       "-1\n",
       "</text>\n",
       "<text text-anchor=\"middle\" x=\"250\" y=\"15\" style=\"fill:currentColor;\">\n",
       "1\n",
       "</text>\n",
       "<text text-anchor=\"middle\" x=\"125.0\" y=\"15\" style=\"fill:currentColor;\">\n",
       "Axis 0\n",
       "</text>\n",
       "<polyline points=\"  0,0   0,-39 2.5,-39 2.5,-16.1   5,-16.1   5,-12.6 7.5,-12.6 7.5,-10.6  10,-10.6  10,-9.63 12.5,-9.63 12.5,-8.5  15,-8.5  15,-7.92 17.5,-7.92 17.5,-7.44  20,-7.44  20,-7.18 22.5,-7.18 22.5,-6.69  25,-6.69  25,-6.61 27.5,-6.61 27.5,-6.24  30,-6.24  30,-5.98 32.5,-5.98 32.5,-5.82  35,-5.82  35,-5.56 37.5,-5.56 37.5,-5.48  40,-5.48  40,-5.39 42.5,-5.39 42.5,-5.33  45,-5.33  45,-5.08 47.5,-5.08 47.5,-5.11  50,-5.11  50,-5.08 52.5,-5.08 52.5,-4.89  55,-4.89  55,-4.81 57.5,-4.81 57.5,-4.76  60,-4.76  60,-4.69 62.5,-4.69 62.5,-4.56  65,-4.56  65,-4.67 67.5,-4.67 67.5,-4.67  70,-4.67  70,-4.59 72.5,-4.59 72.5,-4.71  75,-4.71  75,-4.43 77.5,-4.43 77.5,-4.39  80,-4.39  80,-4.39 82.5,-4.39 82.5,-4.21  85,-4.21  85,-4.2 87.5,-4.2 87.5,-4.34  90,-4.34  90,-4.35 92.5,-4.35 92.5,-4.26  95,-4.26  95,-4.13 97.5,-4.13 97.5,-4.24 100,-4.24 100,-4.24 102.5,-4.24 102.5,-4.26 105,-4.26 105,-4.3 107.5,-4.3 107.5,-4.22 110,-4.22 110,-4.23 112.5,-4.23 112.5,-4.26 115,-4.26 115,-4.24 117.5,-4.24 117.5,-4.18 120,-4.18 120,-4.27 122.5,-4.27 122.5,-4.43 125,-4.43 125,-4.3 127.5,-4.3 127.5,-4.2 130,-4.2 130,-4.21 132.5,-4.21 132.5,-4.82 135,-4.82 135,-5.82 137.5,-5.82 137.5,-7.34 140,-7.34 140,-8.95 142.5,-8.95 142.5,-10.6 145,-10.6 145,-12.1 147.5,-12.1 147.5,-13.1 150,-13.1 150,-14.4 152.5,-14.4 152.5,-14.9 155,-14.9 155,-15.8 157.5,-15.8 157.5,-16.1 160,-16.1 160,-16.4 162.5,-16.4 162.5,-16.8 165,-16.8 165,-17.2 167.5,-17.2 167.5,-16.9 170,-16.9 170,-16.7 172.5,-16.7 172.5,-17.1 175,-17.1 175,-16.9 177.5,-16.9 177.5,-16.9 180,-16.9 180,-17.1 182.5,-17.1 182.5,-17 185,-17 185,-17 187.5,-17 187.5,-16.7 190,-16.7 190,-16.9 192.5,-16.9 192.5,-16.6 195,-16.6 195,-17 197.5,-17 197.5,-16.7 200,-16.7 200,-16.9 202.5,-16.9 202.5,-17 205,-17 205,-17 207.5,-17 207.5,-17.1 210,-17.1 210,-17.4 212.5,-17.4 212.5,-17.6 215,-17.6 215,-17.6 217.5,-17.6 217.5,-18.1 220,-18.1 220,-18.6 222.5,-18.6 222.5,-19.1 225,-19.1 225,-19.6 227.5,-19.6 227.5,-20.3 230,-20.3 230,-20.7 232.5,-20.7 232.5,-22.2 235,-22.2 235,-23.2 237.5,-23.2 237.5,-25.6 240,-25.6 240,-28.5 242.5,-28.5 242.5,-33.3 245,-33.3 245,-42.1 247.5,-42.1 247.5,-100 250,-100 250,0\" style=\"fill:none; stroke:currentColor;\"/>\n",
       "</svg>\n",
       "</div>\n",
       "<div style=\"flex=grow:1;\">\n",
       "Regular(100, -1, 1, label='Axis 0')<br/>\n",
       "<hr style=\"margin-top:.2em; margin-bottom:.2em;\"/>\n",
       "Double() Σ=1000000.0\n",
       "\n",
       "</div>\n",
       "</div>\n",
       "</html>"
      ],
      "text/plain": [
       "Hist(Regular(100, -1, 1, label='Axis 0'), storage=Double()) # Sum: 1000000.0"
      ]
     },
     "execution_count": 17,
     "metadata": {},
     "output_type": "execute_result"
    }
   ],
   "source": [
    "Hist.new.Reg(100, -1, 1).Double().fill(dataset3)"
   ]
  },
  {
   "cell_type": "code",
   "execution_count": 18,
   "id": "c8d9027f-ff2a-410a-b8ad-3f22a7f11ca5",
   "metadata": {},
   "outputs": [
    {
     "data": {
      "text/plain": [
       "\u001b[0;31mSignature:\u001b[0m\n",
       "\u001b[0mHist\u001b[0m\u001b[0;34m.\u001b[0m\u001b[0mnew\u001b[0m\u001b[0;34m.\u001b[0m\u001b[0mReg\u001b[0m\u001b[0;34m(\u001b[0m\u001b[0;34m\u001b[0m\n",
       "\u001b[0;34m\u001b[0m    \u001b[0mbins\u001b[0m\u001b[0;34m:\u001b[0m \u001b[0;34m'int'\u001b[0m\u001b[0;34m,\u001b[0m\u001b[0;34m\u001b[0m\n",
       "\u001b[0;34m\u001b[0m    \u001b[0mstart\u001b[0m\u001b[0;34m:\u001b[0m \u001b[0;34m'float'\u001b[0m\u001b[0;34m,\u001b[0m\u001b[0;34m\u001b[0m\n",
       "\u001b[0;34m\u001b[0m    \u001b[0mstop\u001b[0m\u001b[0;34m:\u001b[0m \u001b[0;34m'float'\u001b[0m\u001b[0;34m,\u001b[0m\u001b[0;34m\u001b[0m\n",
       "\u001b[0;34m\u001b[0m    \u001b[0;34m*\u001b[0m\u001b[0;34m,\u001b[0m\u001b[0;34m\u001b[0m\n",
       "\u001b[0;34m\u001b[0m    \u001b[0mname\u001b[0m\u001b[0;34m:\u001b[0m \u001b[0;34m'str'\u001b[0m \u001b[0;34m=\u001b[0m \u001b[0;34m''\u001b[0m\u001b[0;34m,\u001b[0m\u001b[0;34m\u001b[0m\n",
       "\u001b[0;34m\u001b[0m    \u001b[0mlabel\u001b[0m\u001b[0;34m:\u001b[0m \u001b[0;34m'str'\u001b[0m \u001b[0;34m=\u001b[0m \u001b[0;34m''\u001b[0m\u001b[0;34m,\u001b[0m\u001b[0;34m\u001b[0m\n",
       "\u001b[0;34m\u001b[0m    \u001b[0mmetadata\u001b[0m\u001b[0;34m:\u001b[0m \u001b[0;34m'Any'\u001b[0m \u001b[0;34m=\u001b[0m \u001b[0;32mNone\u001b[0m\u001b[0;34m,\u001b[0m\u001b[0;34m\u001b[0m\n",
       "\u001b[0;34m\u001b[0m    \u001b[0mflow\u001b[0m\u001b[0;34m:\u001b[0m \u001b[0;34m'bool'\u001b[0m \u001b[0;34m=\u001b[0m \u001b[0;32mTrue\u001b[0m\u001b[0;34m,\u001b[0m\u001b[0;34m\u001b[0m\n",
       "\u001b[0;34m\u001b[0m    \u001b[0munderflow\u001b[0m\u001b[0;34m:\u001b[0m \u001b[0;34m'bool | None'\u001b[0m \u001b[0;34m=\u001b[0m \u001b[0;32mNone\u001b[0m\u001b[0;34m,\u001b[0m\u001b[0;34m\u001b[0m\n",
       "\u001b[0;34m\u001b[0m    \u001b[0moverflow\u001b[0m\u001b[0;34m:\u001b[0m \u001b[0;34m'bool | None'\u001b[0m \u001b[0;34m=\u001b[0m \u001b[0;32mNone\u001b[0m\u001b[0;34m,\u001b[0m\u001b[0;34m\u001b[0m\n",
       "\u001b[0;34m\u001b[0m    \u001b[0mgrowth\u001b[0m\u001b[0;34m:\u001b[0m \u001b[0;34m'bool'\u001b[0m \u001b[0;34m=\u001b[0m \u001b[0;32mFalse\u001b[0m\u001b[0;34m,\u001b[0m\u001b[0;34m\u001b[0m\n",
       "\u001b[0;34m\u001b[0m    \u001b[0mcircular\u001b[0m\u001b[0;34m:\u001b[0m \u001b[0;34m'bool'\u001b[0m \u001b[0;34m=\u001b[0m \u001b[0;32mFalse\u001b[0m\u001b[0;34m,\u001b[0m\u001b[0;34m\u001b[0m\n",
       "\u001b[0;34m\u001b[0m    \u001b[0mtransform\u001b[0m\u001b[0;34m:\u001b[0m \u001b[0;34m'AxisTransform | None'\u001b[0m \u001b[0;34m=\u001b[0m \u001b[0;32mNone\u001b[0m\u001b[0;34m,\u001b[0m\u001b[0;34m\u001b[0m\n",
       "\u001b[0;34m\u001b[0m    \u001b[0m__dict__\u001b[0m\u001b[0;34m:\u001b[0m \u001b[0;34m'dict[str, Any] | None'\u001b[0m \u001b[0;34m=\u001b[0m \u001b[0;32mNone\u001b[0m\u001b[0;34m,\u001b[0m\u001b[0;34m\u001b[0m\n",
       "\u001b[0;34m\u001b[0m\u001b[0;34m)\u001b[0m \u001b[0;34m->\u001b[0m \u001b[0;34m'ConstructProxy'\u001b[0m\u001b[0;34m\u001b[0m\u001b[0;34m\u001b[0m\u001b[0m\n",
       "\u001b[0;31mDocstring:\u001b[0m <no docstring>\n",
       "\u001b[0;31mFile:\u001b[0m      /srv/conda/envs/notebook/lib/python3.10/site-packages/hist/quick_construct.py\n",
       "\u001b[0;31mType:\u001b[0m      method"
      ]
     },
     "metadata": {},
     "output_type": "display_data"
    }
   ],
   "source": [
    "Hist.new.Reg?\n"
   ]
  },
  {
   "cell_type": "markdown",
   "id": "581f2baa-04ec-4b7e-903f-d8af024bfd38",
   "metadata": {
    "editable": true,
    "slideshow": {
     "slide_type": "slide"
    },
    "tags": []
   },
   "source": [
    "**Human readability advantage:**\n",
    "\n",
    "  * Mathematical expressions are concise, more convenient to type interactivity.\n",
    "\n",
    "<br>\n",
    "\n",
    "**Computational advantage:**\n",
    "\n",
    "  * The right _part_ of the computation is accelerated: the loop over all values in the distribution."
   ]
  },
  {
   "cell_type": "markdown",
   "id": "298f9ec3-7daa-4a8d-89b0-de346dc2fde2",
   "metadata": {
    "slideshow": {
     "slide_type": "slide"
    },
    "tags": []
   },
   "source": [
    "## NumPy"
   ]
  },
  {
   "cell_type": "markdown",
   "id": "416fc7a5-9870-41b4-bae0-be0dc52cc448",
   "metadata": {
    "editable": true,
    "slideshow": {
     "slide_type": ""
    },
    "tags": []
   },
   "source": [
    "<center>\n",
    "<img src=\"../img/Numpy_Python_Cheat_Sheet.svg\" width=\"90%\">\n",
    "</center>"
   ]
  },
  {
   "cell_type": "markdown",
   "id": "228fb86d-e0f1-4972-ac2b-f7501e56c109",
   "metadata": {
    "editable": true,
    "slideshow": {
     "slide_type": "slide"
    },
    "tags": []
   },
   "source": [
    "NumPy's version of\n",
    "\n",
    "```apl\n",
    "      10 20 30 + 1 2 3\n",
    "11 22 33\n",
    "```\n",
    "\n",
    "is"
   ]
  },
  {
   "cell_type": "code",
   "execution_count": 19,
   "id": "d0b49dfd-ed26-42a0-8fe3-0a43143c0e95",
   "metadata": {
    "tags": []
   },
   "outputs": [
    {
     "data": {
      "text/plain": [
       "array([11, 22, 33])"
      ]
     },
     "execution_count": 19,
     "metadata": {},
     "output_type": "execute_result"
    }
   ],
   "source": [
    "np.array([10, 20, 30]) + np.array([1, 2, 3])"
   ]
  },
  {
   "cell_type": "markdown",
   "id": "98cfc36b-2351-4350-be25-1c53f7dd60bb",
   "metadata": {
    "editable": true,
    "slideshow": {
     "slide_type": "fragment"
    },
    "tags": []
   },
   "source": [
    "<br><br>"
   ]
  },
  {
   "cell_type": "markdown",
   "id": "15c77a5f-b7f8-47b8-a6ba-2d142ef6941c",
   "metadata": {
    "editable": true,
    "slideshow": {
     "slide_type": ""
    },
    "tags": []
   },
   "source": [
    "Since all scalar → scalar operators (and scalar → scalar functions in `np.*`) are promoted to elementwise operations on arrays, any [closed form](https://en.wikipedia.org/wiki/Closed-form_expression) expression duck-types between scalars and arrays."
   ]
  },
  {
   "cell_type": "code",
   "execution_count": 20,
   "id": "37ca3db2-667a-41e0-a2d9-40720a080420",
   "metadata": {
    "tags": []
   },
   "outputs": [],
   "source": [
    "def quadratic_formula(a, b, c):\n",
    "    return (-b + np.sqrt(b**2 - 4*a*c)) / (2*a)"
   ]
  },
  {
   "cell_type": "markdown",
   "id": "22be6fdc-29f1-4162-855e-2421eb4b7fa1",
   "metadata": {
    "editable": true,
    "slideshow": {
     "slide_type": "slide"
    },
    "tags": []
   },
   "source": [
    "Compute the quadratic formula on one set of scalar values:"
   ]
  },
  {
   "cell_type": "code",
   "execution_count": 21,
   "id": "524f3b99-3832-479b-a9c8-6d68a8c3bcde",
   "metadata": {
    "tags": []
   },
   "outputs": [
    {
     "data": {
      "text/plain": [
       "0.009950493836207741"
      ]
     },
     "execution_count": 21,
     "metadata": {},
     "output_type": "execute_result"
    }
   ],
   "source": [
    "a = 5\n",
    "b = 10\n",
    "c = -0.1\n",
    "\n",
    "quadratic_formula(a, b, c)"
   ]
  },
  {
   "cell_type": "markdown",
   "id": "e0a83249-e438-4f37-be97-26f12fae9038",
   "metadata": {},
   "source": [
    "<br>\n",
    "\n",
    "Compute the quadratic formula on a million values in arrays:"
   ]
  },
  {
   "cell_type": "code",
   "execution_count": 22,
   "id": "6d1c2cbc-68ba-444b-8482-b272cff21ad5",
   "metadata": {
    "editable": true,
    "slideshow": {
     "slide_type": ""
    },
    "tags": []
   },
   "outputs": [
    {
     "data": {
      "text/plain": [
       "array([ 0.00287275, -0.00042267,  0.00364054, ...,  0.00354046,\n",
       "        0.00443926, -0.00203547])"
      ]
     },
     "execution_count": 22,
     "metadata": {},
     "output_type": "execute_result"
    }
   ],
   "source": [
    "a = np.random.uniform(5, 10, 1000000)\n",
    "b = np.random.uniform(10, 20, 1000000)\n",
    "c = np.random.uniform(-0.1, 0.1, 1000000)\n",
    "\n",
    "quadratic_formula(a, b, c)"
   ]
  },
  {
   "cell_type": "markdown",
   "id": "768bd0eb-74dd-47d9-b6ec-a84dbb4c7166",
   "metadata": {
    "editable": true,
    "jp-MarkdownHeadingCollapsed": true,
    "slideshow": {
     "slide_type": "slide"
    },
    "tags": []
   },
   "source": [
    "### Speed and memory use"
   ]
  },
  {
   "cell_type": "markdown",
   "id": "619d4b30-ef24-40af-9da1-120959680d31",
   "metadata": {
    "editable": true,
    "slideshow": {
     "slide_type": ""
    },
    "tags": []
   },
   "source": [
    "<br>"
   ]
  },
  {
   "cell_type": "markdown",
   "id": "0037a70b-2ac8-4db2-b5c2-6be00a19cc1f",
   "metadata": {
    "editable": true,
    "slideshow": {
     "slide_type": ""
    },
    "tags": []
   },
   "source": [
    "Although I'll later show you some techniques that are faster than NumPy, NumPy is already a huge step beyond pure Python."
   ]
  },
  {
   "cell_type": "code",
   "execution_count": 23,
   "id": "1e5ff47b-8221-4dcb-ba06-e81d4c9b192d",
   "metadata": {
    "editable": true,
    "slideshow": {
     "slide_type": ""
    },
    "tags": []
   },
   "outputs": [
    {
     "name": "stdout",
     "output_type": "stream",
     "text": [
      "1.94 s ± 27 ms per loop (mean ± std. dev. of 7 runs, 1 loop each)\n"
     ]
    }
   ],
   "source": [
    "%%timeit\n",
    "\n",
    "output = []\n",
    "for a_i, b_i, c_i in zip(a, b, c):\n",
    "    output.append(quadratic_formula(a_i, b_i, c_i))"
   ]
  },
  {
   "cell_type": "code",
   "execution_count": 24,
   "id": "abb59c13-215a-4f20-a129-63689a270d8a",
   "metadata": {},
   "outputs": [
    {
     "name": "stdout",
     "output_type": "stream",
     "text": [
      "1 a\n",
      "___\n",
      "2 b\n",
      "___\n"
     ]
    }
   ],
   "source": [
    "#understand zip\n",
    "x =[1,2]\n",
    "y = [\"a\",\"b\"]\n",
    "for i, j in zip(x,y):\n",
    "    print(i,j)\n",
    "    print(\"___\")"
   ]
  },
  {
   "cell_type": "markdown",
   "id": "3015d2ed-52a4-49c4-99fc-96bc944aa938",
   "metadata": {
    "editable": true,
    "slideshow": {
     "slide_type": ""
    },
    "tags": []
   },
   "source": [
    "<br>"
   ]
  },
  {
   "cell_type": "code",
   "execution_count": 25,
   "id": "7053da43-c8bf-477f-8484-9dccb5da6e50",
   "metadata": {
    "editable": true,
    "slideshow": {
     "slide_type": ""
    },
    "tags": []
   },
   "outputs": [
    {
     "name": "stdout",
     "output_type": "stream",
     "text": [
      "15.8 ms ± 321 µs per loop (mean ± std. dev. of 7 runs, 100 loops each)\n"
     ]
    }
   ],
   "source": [
    "%%timeit\n",
    "\n",
    "output = quadratic_formula(a, b, c)"
   ]
  },
  {
   "cell_type": "markdown",
   "id": "4caf7cb0-4364-404a-9f41-58bfe997bca8",
   "metadata": {
    "editable": true,
    "slideshow": {
     "slide_type": ""
    },
    "tags": []
   },
   "source": [
    "<br>"
   ]
  },
  {
   "cell_type": "markdown",
   "id": "f60a93b0-965e-4ff8-a5cf-2865b6da632c",
   "metadata": {
    "editable": true,
    "slideshow": {
     "slide_type": "fragment"
    },
    "tags": []
   },
   "source": [
    "Why?"
   ]
  },
  {
   "cell_type": "markdown",
   "id": "0ba468eb-a4bb-4fda-85ae-f0e71c6fc52f",
   "metadata": {
    "editable": true,
    "slideshow": {
     "slide_type": "slide"
    },
    "tags": []
   },
   "source": [
    "There are essentially two kinds of languages, and Python is one of the slow ones."
   ]
  },
  {
   "cell_type": "markdown",
   "id": "c0567fda-5b44-4f67-a53b-9b367168baf4",
   "metadata": {
    "editable": true,
    "slideshow": {
     "slide_type": "fragment"
    },
    "tags": []
   },
   "source": [
    "<br>"
   ]
  },
  {
   "cell_type": "markdown",
   "id": "963b0025-6d31-4b8c-89e1-75cbcb4d4cb9",
   "metadata": {
    "editable": true,
    "slideshow": {
     "slide_type": ""
    },
    "tags": []
   },
   "source": [
    "<center>\n",
    "<img src=\"../img/benchmark-games-2023.svg\" width=\"70%\">\n",
    "</center>"
   ]
  },
  {
   "cell_type": "markdown",
   "id": "eefba039-84bc-438e-ad7d-e07bb80b5744",
   "metadata": {
    "editable": true,
    "slideshow": {
     "slide_type": "slide"
    },
    "tags": []
   },
   "source": [
    "Python (and Ruby, Perl, Lua, PHP...) allow all data types to be dynamic, so that a list or a dict can contain any type of data."
   ]
  },
  {
   "cell_type": "markdown",
   "id": "52583604-25e1-49cb-aab7-85694ca02801",
   "metadata": {
    "editable": true,
    "slideshow": {
     "slide_type": ""
    },
    "tags": []
   },
   "source": [
    "<br><br>"
   ]
  },
  {
   "cell_type": "markdown",
   "id": "28ac2b4f-44a7-4aea-b0ee-d49349f6d8f0",
   "metadata": {
    "editable": true,
    "slideshow": {
     "slide_type": "fragment"
    },
    "tags": []
   },
   "source": [
    "But this means that before each operation, data types need to be checked to see if the operation is possible."
   ]
  },
  {
   "cell_type": "markdown",
   "id": "abef28b6-6c42-4a7b-b651-3071217909cc",
   "metadata": {
    "editable": true,
    "slideshow": {
     "slide_type": ""
    },
    "tags": []
   },
   "source": [
    "<br><br>"
   ]
  },
  {
   "cell_type": "markdown",
   "id": "fccd80e8-08a0-4e9d-977b-3ffdc31222e5",
   "metadata": {
    "editable": true,
    "slideshow": {
     "slide_type": "fragment"
    },
    "tags": []
   },
   "source": [
    "Over and over again, for every step of a loop over a million elements."
   ]
  },
  {
   "cell_type": "markdown",
   "id": "f9497e83-6e3e-452a-b0f5-5da2f73d0da3",
   "metadata": {
    "editable": true,
    "slideshow": {
     "slide_type": "slide"
    },
    "tags": []
   },
   "source": [
    "Memory layout of a Python list.\n",
    "\n",
    "<br>"
   ]
  },
  {
   "cell_type": "markdown",
   "id": "575e8eaf-e3c9-4396-9fca-f474e9ac5177",
   "metadata": {
    "editable": true,
    "slideshow": {
     "slide_type": ""
    },
    "tags": []
   },
   "source": [
    "<center>\n",
    "<img src=\"../img/python-list-layout.svg\" width=\"75%\">\n",
    "</center>"
   ]
  },
  {
   "cell_type": "markdown",
   "id": "d43e2441-1072-4b26-9ca2-00109c90ccdd",
   "metadata": {
    "editable": true,
    "slideshow": {
     "slide_type": "slide"
    },
    "tags": []
   },
   "source": [
    "Memory layout of a NumPy array.\n",
    "\n",
    "<br>"
   ]
  },
  {
   "cell_type": "markdown",
   "id": "17ce3956-530a-4e87-bc94-b38768e7ac0f",
   "metadata": {
    "editable": true,
    "slideshow": {
     "slide_type": ""
    },
    "tags": []
   },
   "source": [
    "<center>\n",
    "<img src=\"../img/python-array-layout.svg\" width=\"75%\">\n",
    "</center>"
   ]
  },
  {
   "cell_type": "markdown",
   "id": "54ba7765-dbf6-47ac-82f5-582ac49ed8e5",
   "metadata": {
    "editable": true,
    "slideshow": {
     "slide_type": "slide"
    },
    "tags": []
   },
   "source": [
    "Dynamic types are usually the main reason why pure Python is slow, but there are others (garbage collector, virtual machine, pointer chasing...)."
   ]
  },
  {
   "cell_type": "markdown",
   "id": "e4345e3b-7cb4-4ce6-bc28-dc031bcb27a3",
   "metadata": {
    "editable": true,
    "slideshow": {
     "slide_type": ""
    },
    "tags": []
   },
   "source": [
    "<br><br><br>"
   ]
  },
  {
   "cell_type": "markdown",
   "id": "dfcfb672-4c13-410a-bd93-476635eb1fa3",
   "metadata": {
    "editable": true,
    "slideshow": {
     "slide_type": "fragment"
    },
    "tags": []
   },
   "source": [
    "Most of these are addressed by a compiled library like NumPy, in which the loops over large datasets are in compiled code."
   ]
  },
  {
   "cell_type": "markdown",
   "id": "1e0ddaab-09aa-4e60-92ad-fa79c04bbf24",
   "metadata": {
    "editable": true,
    "slideshow": {
     "slide_type": "slide"
    },
    "tags": []
   },
   "source": [
    "### Expressibility in NumPy"
   ]
  },
  {
   "cell_type": "markdown",
   "id": "f0c7a270-f662-4d38-89f3-f3baa777730b",
   "metadata": {
    "editable": true,
    "slideshow": {
     "slide_type": ""
    },
    "tags": []
   },
   "source": [
    "Loops over large datasets are in compiled code, but can we still express what we need to compute from the Python side?"
   ]
  },
  {
   "cell_type": "markdown",
   "id": "2ab3c53a-5179-437a-ae5c-32e1739bd4ee",
   "metadata": {
    "editable": true,
    "slideshow": {
     "slide_type": ""
    },
    "tags": []
   },
   "source": [
    "<br>"
   ]
  },
  {
   "cell_type": "markdown",
   "id": "9c7233a9-fb16-413a-a8f3-013c42f784cc",
   "metadata": {
    "editable": true,
    "slideshow": {
     "slide_type": "fragment"
    },
    "tags": []
   },
   "source": [
    "Usually. NumPy has most of the pieces that we need:\n",
    "\n",
    "  * elementwise operations (\"ufuncs\")\n",
    "  * broadcasting\n",
    "  * basic and advanced slicing\n",
    "  * slice-assignment\n",
    "  * reshaping\n",
    "  * reducers\n",
    "  * specialized functions"
   ]
  },
  {
   "cell_type": "markdown",
   "id": "fe30844a-fa0b-44b2-9603-207f32ad2ef1",
   "metadata": {
    "editable": true,
    "slideshow": {
     "slide_type": "slide"
    },
    "tags": []
   },
   "source": [
    "**Example:** Compute the size of the spaces between consecutive elements."
   ]
  },
  {
   "cell_type": "code",
   "execution_count": 26,
   "id": "a629e064-faaf-41a0-bc64-5e666cc3759f",
   "metadata": {
    "editable": true,
    "slideshow": {
     "slide_type": ""
    },
    "tags": []
   },
   "outputs": [
    {
     "data": {
      "text/plain": [
       "array([1.1, 2.2, 3.3, 4.4, 5.5, 6.6, 7.7, 8.8, 9.9])"
      ]
     },
     "execution_count": 26,
     "metadata": {},
     "output_type": "execute_result"
    }
   ],
   "source": [
    "array = np.array([1.1, 2.2, 3.3, 4.4, 5.5, 6.6, 7.7, 8.8, 9.9])\n",
    "array"
   ]
  },
  {
   "cell_type": "markdown",
   "id": "49585c91-5746-464e-87a0-1b804f23332b",
   "metadata": {
    "editable": true,
    "slideshow": {
     "slide_type": ""
    },
    "tags": []
   },
   "source": [
    "<br><br><br>"
   ]
  },
  {
   "cell_type": "code",
   "execution_count": 27,
   "id": "cc038cc1-0f34-4e07-a780-717befbba313",
   "metadata": {
    "editable": true,
    "slideshow": {
     "slide_type": "fragment"
    },
    "tags": []
   },
   "outputs": [
    {
     "data": {
      "text/plain": [
       "array([1.1, 1.1, 1.1, 1.1, 1.1, 1.1, 1.1, 1.1])"
      ]
     },
     "execution_count": 27,
     "metadata": {},
     "output_type": "execute_result"
    }
   ],
   "source": [
    "array[1:] - array[:-1]"
   ]
  },
  {
   "cell_type": "markdown",
   "id": "488e0ab3-ff1e-4d35-a498-569cb1ea3e64",
   "metadata": {},
   "source": [
    "\n",
    "How It Works\n",
    "\n",
    "    array[1:]: This slice returns all elements of the array except the first one (i.e., from index 1 to the end)\n",
    "\n",
    ".\n",
    "\n",
    "array[:-1]: This slice returns all elements of the array except the last one (i.e., from the beginning up to, but not including, the last element)\n",
    "\n",
    "    .\n",
    "\n",
    "When you subtract array[:-1] from array[1:], you get a new array where each element is the difference between consecutive elements in the original array:\n",
    "result[i]=array[i+1]−array[i]\n",
    "result[i]=array[i+1]−array[i]"
   ]
  },
  {
   "cell_type": "markdown",
   "id": "25f23f8c-5ef9-4c3e-b543-0d6e2ff7d0f8",
   "metadata": {
    "editable": true,
    "slideshow": {
     "slide_type": "slide"
    },
    "tags": []
   },
   "source": [
    "<center>\n",
    "<img src=\"../img/flat-operation.svg\" width=\"70%\">\n",
    "</center>"
   ]
  },
  {
   "cell_type": "markdown",
   "id": "19edf344-c195-4718-b706-14429d35777f",
   "metadata": {
    "editable": true,
    "slideshow": {
     "slide_type": "slide"
    },
    "tags": []
   },
   "source": [
    "<center>\n",
    "<img src=\"../img/shifted-operation.svg\" width=\"70%\">\n",
    "</center>"
   ]
  },
  {
   "cell_type": "markdown",
   "id": "fb371b34-224b-4105-92e6-591eaaa9fb44",
   "metadata": {
    "editable": true,
    "slideshow": {
     "slide_type": "slide"
    },
    "tags": []
   },
   "source": [
    "**Quizlet:** Compute the length of the curve sampled by arrays `x` and `y`."
   ]
  },
  {
   "cell_type": "code",
   "execution_count": 28,
   "id": "b6f52eff-424d-4c93-9e2b-1c9c49967716",
   "metadata": {
    "editable": true,
    "slideshow": {
     "slide_type": ""
    },
    "tags": []
   },
   "outputs": [],
   "source": [
    "t = np.linspace(0, 2*np.pi, 10000)\n",
    "x = np.sin(3*t)\n",
    "y = np.sin(4*t)"
   ]
  },
  {
   "cell_type": "markdown",
   "id": "50939ff3-7dfb-4604-886a-bcf91a349e1d",
   "metadata": {
    "editable": true,
    "slideshow": {
     "slide_type": ""
    },
    "tags": []
   },
   "source": [
    "<br>\n",
    "\n",
    "<center>\n",
    "<img src=\"../img/length-by-segment.svg\" width=\"55%\">\n",
    "</center>\n",
    "\n",
    "<br>"
   ]
  },
  {
   "cell_type": "code",
   "execution_count": 29,
   "id": "0383cff0-2c2a-465d-907a-ac050d50f879",
   "metadata": {
    "editable": true,
    "slideshow": {
     "slide_type": ""
    },
    "tags": []
   },
   "outputs": [],
   "source": [
    "import matplotlib.pyplot as plt"
   ]
  },
  {
   "cell_type": "code",
   "execution_count": 30,
   "id": "a5667ab6-f1c5-4ae8-b883-59bfebc68538",
   "metadata": {
    "editable": true,
    "slideshow": {
     "slide_type": "slide"
    },
    "tags": []
   },
   "outputs": [
    {
     "data": {
      "image/png": "[encoded data removed]",
      "text/plain": [
       "<Figure size 640x480 with 1 Axes>"
      ]
     },
     "metadata": {},
     "output_type": "display_data"
    }
   ],
   "source": [
    "plt.plot(x, y);"
   ]
  },
  {
   "cell_type": "markdown",
   "id": "8033dc5d-a36c-4843-bc48-326315bad15a",
   "metadata": {
    "editable": true,
    "slideshow": {
     "slide_type": "slide"
    },
    "tags": []
   },
   "source": [
    "**Answer:**"
   ]
  },
  {
   "cell_type": "code",
   "execution_count": 31,
   "id": "63e141e2-0b2b-4b0c-bb01-04d5e74ed708",
   "metadata": {
    "editable": true,
    "slideshow": {
     "slide_type": ""
    },
    "tags": []
   },
   "outputs": [
    {
     "data": {
      "text/plain": [
       "21.237210568991465"
      ]
     },
     "execution_count": 31,
     "metadata": {},
     "output_type": "execute_result"
    }
   ],
   "source": [
    "np.sum(np.sqrt((x[1:] - x[:-1])**2 + (y[1:] - y[:-1])**2))"
   ]
  },
  {
   "cell_type": "markdown",
   "id": "75293a71-34c5-4e8a-ac7f-27040d30a535",
   "metadata": {
    "editable": true,
    "slideshow": {
     "slide_type": "slide"
    },
    "tags": []
   },
   "source": [
    "### Slicing"
   ]
  },
  {
   "cell_type": "markdown",
   "id": "bc1aa8dc-c7f5-4e5c-bfb2-663b0b6cdc21",
   "metadata": {
    "editable": true,
    "slideshow": {
     "slide_type": ""
    },
    "tags": []
   },
   "source": [
    "Python has a very concise slicing syntax:\n",
    "\n",
    "```python\n",
    "container[start:stop:step]\n",
    "```\n",
    "\n",
    "any one of which can be left out, to get a default. Negative values count backward, from the end."
   ]
  },
  {
   "cell_type": "code",
   "execution_count": 32,
   "id": "8d44fcaf-2173-437f-b6b9-580846e3a98f",
   "metadata": {
    "editable": true,
    "slideshow": {
     "slide_type": ""
    },
    "tags": []
   },
   "outputs": [],
   "source": [
    "container = [0.0, 1.1, 2.2, 3.3, 4.4, 5.5, 6.6, 7.7, 8.8, 9.9]"
   ]
  },
  {
   "cell_type": "code",
   "execution_count": 33,
   "id": "8d205663-a293-4cb6-85a5-fba3ca69f7ab",
   "metadata": {
    "editable": true,
    "slideshow": {
     "slide_type": ""
    },
    "tags": []
   },
   "outputs": [
    {
     "data": {
      "text/plain": [
       "[2.2, 3.3, 4.4, 5.5, 6.6, 7.7, 8.8, 9.9]"
      ]
     },
     "execution_count": 33,
     "metadata": {},
     "output_type": "execute_result"
    }
   ],
   "source": [
    "container[2:]"
   ]
  },
  {
   "cell_type": "markdown",
   "id": "5a61e16d-8ee1-43d7-be40-c81d6b17c06b",
   "metadata": {
    "editable": true,
    "slideshow": {
     "slide_type": ""
    },
    "tags": []
   },
   "source": [
    "<br>"
   ]
  },
  {
   "cell_type": "code",
   "execution_count": 34,
   "id": "3ac9ea57-2b0c-4333-9ff2-285e748146ed",
   "metadata": {
    "editable": true,
    "slideshow": {
     "slide_type": ""
    },
    "tags": []
   },
   "outputs": [
    {
     "data": {
      "text/plain": [
       "[0.0, 1.1, 2.2, 3.3, 4.4]"
      ]
     },
     "execution_count": 34,
     "metadata": {},
     "output_type": "execute_result"
    }
   ],
   "source": [
    "container[:5]"
   ]
  },
  {
   "cell_type": "markdown",
   "id": "6644f28c-26a4-437c-940e-69838060c783",
   "metadata": {
    "editable": true,
    "slideshow": {
     "slide_type": ""
    },
    "tags": []
   },
   "source": [
    "<br>"
   ]
  },
  {
   "cell_type": "code",
   "execution_count": 35,
   "id": "a7a24fb5-436e-45b7-a7b9-1f2a57ad63f7",
   "metadata": {
    "editable": true,
    "slideshow": {
     "slide_type": ""
    },
    "tags": []
   },
   "outputs": [
    {
     "data": {
      "text/plain": [
       "[4.4, 5.5, 6.6, 7.7]"
      ]
     },
     "execution_count": 35,
     "metadata": {},
     "output_type": "execute_result"
    }
   ],
   "source": [
    "container[-6:-2]"
   ]
  },
  {
   "cell_type": "markdown",
   "id": "4eea88f1-1065-4163-961b-6fa3297840db",
   "metadata": {
    "editable": true,
    "slideshow": {
     "slide_type": ""
    },
    "tags": []
   },
   "source": [
    "<br>"
   ]
  },
  {
   "cell_type": "code",
   "execution_count": 36,
   "id": "105e6b71-797f-47bc-8f06-2152e8bb2094",
   "metadata": {
    "editable": true,
    "slideshow": {
     "slide_type": ""
    },
    "tags": []
   },
   "outputs": [
    {
     "data": {
      "text/plain": [
       "[4.4, 6.6, 8.8]"
      ]
     },
     "execution_count": 36,
     "metadata": {},
     "output_type": "execute_result"
    }
   ],
   "source": [
    "container[4:10:2]"
   ]
  },
  {
   "cell_type": "markdown",
   "id": "d6bc0127-f666-478f-99ef-06d026516996",
   "metadata": {
    "editable": true,
    "slideshow": {
     "slide_type": ""
    },
    "tags": []
   },
   "source": [
    "<br>"
   ]
  },
  {
   "cell_type": "code",
   "execution_count": 37,
   "id": "cc369bb4-753d-4e74-a91a-c85d63c02279",
   "metadata": {
    "editable": true,
    "slideshow": {
     "slide_type": ""
    },
    "tags": []
   },
   "outputs": [
    {
     "data": {
      "text/plain": [
       "[0.0, 3.3, 6.6, 9.9]"
      ]
     },
     "execution_count": 37,
     "metadata": {},
     "output_type": "execute_result"
    }
   ],
   "source": [
    "container[::3]"
   ]
  },
  {
   "cell_type": "markdown",
   "id": "4e0b5803-1208-4e41-b756-b3ef55094fb4",
   "metadata": {
    "editable": true,
    "slideshow": {
     "slide_type": "slide"
    },
    "tags": []
   },
   "source": [
    "NumPy goes beyond ordinary slicing by allowing slices in multiple dimensions."
   ]
  },
  {
   "cell_type": "markdown",
   "id": "8d2b3eb1-1f77-4c88-a35d-c08e6dabbe96",
   "metadata": {
    "editable": true,
    "slideshow": {
     "slide_type": ""
    },
    "tags": []
   },
   "source": [
    "<center>\n",
    "<img src=\"../img/numpy-slicing.png\" width=\"25%\">\n",
    "</center>"
   ]
  },
  {
   "cell_type": "code",
   "execution_count": 38,
   "id": "4de33a84-4640-4b2b-92bf-051c08238aa2",
   "metadata": {
    "editable": true,
    "slideshow": {
     "slide_type": "slide"
    },
    "tags": []
   },
   "outputs": [
    {
     "data": {
      "text/plain": [
       "array([[1.1, 2.2, 3.3],\n",
       "       [4.4, 5.5, 6.6],\n",
       "       [7.7, 8.8, 9.9]])"
      ]
     },
     "execution_count": 38,
     "metadata": {},
     "output_type": "execute_result"
    }
   ],
   "source": [
    "arr = np.array([[1.1, 2.2, 3.3],\n",
    "                [4.4, 5.5, 6.6],\n",
    "                [7.7, 8.8, 9.9]])\n",
    "arr"
   ]
  },
  {
   "cell_type": "code",
   "execution_count": 39,
   "id": "d23fa80f-02b1-4349-a533-0789b84173ae",
   "metadata": {
    "editable": true,
    "slideshow": {
     "slide_type": ""
    },
    "tags": []
   },
   "outputs": [
    {
     "data": {
      "text/plain": [
       "array([[2.2, 3.3],\n",
       "       [5.5, 6.6]])"
      ]
     },
     "execution_count": 39,
     "metadata": {},
     "output_type": "execute_result"
    }
   ],
   "source": [
    "arr[:2, 1:]"
   ]
  },
  {
   "cell_type": "markdown",
   "id": "0559b466-53ba-412c-b9e0-571b421b7113",
   "metadata": {
    "editable": true,
    "slideshow": {
     "slide_type": ""
    },
    "tags": []
   },
   "source": [
    "<br>"
   ]
  },
  {
   "cell_type": "code",
   "execution_count": 40,
   "id": "d95e3920-5b36-4124-beac-181f6390d341",
   "metadata": {
    "editable": true,
    "slideshow": {
     "slide_type": ""
    },
    "tags": []
   },
   "outputs": [
    {
     "data": {
      "text/plain": [
       "array([[7.7, 8.8, 9.9]])"
      ]
     },
     "execution_count": 40,
     "metadata": {},
     "output_type": "execute_result"
    }
   ],
   "source": [
    "arr[2:, :]"
   ]
  },
  {
   "cell_type": "markdown",
   "id": "e0074837-5c08-4408-84cf-dfd56a1a5753",
   "metadata": {
    "editable": true,
    "slideshow": {
     "slide_type": ""
    },
    "tags": []
   },
   "source": [
    "<br>"
   ]
  },
  {
   "cell_type": "code",
   "execution_count": 41,
   "id": "1852fbdb-e0f0-45b9-9771-7f33ef58b2fc",
   "metadata": {
    "editable": true,
    "slideshow": {
     "slide_type": ""
    },
    "tags": []
   },
   "outputs": [
    {
     "data": {
      "text/plain": [
       "array([[1.1, 2.2],\n",
       "       [4.4, 5.5],\n",
       "       [7.7, 8.8]])"
      ]
     },
     "execution_count": 41,
     "metadata": {},
     "output_type": "execute_result"
    }
   ],
   "source": [
    "arr[:, :2]"
   ]
  },
  {
   "cell_type": "markdown",
   "id": "ad3a60df-a47f-40f4-b93b-37ff8d7bcd0c",
   "metadata": {
    "editable": true,
    "slideshow": {
     "slide_type": ""
    },
    "tags": []
   },
   "source": [
    "<br>"
   ]
  },
  {
   "cell_type": "code",
   "execution_count": 42,
   "id": "04464f35-5b36-4e97-b502-0e708dd3e900",
   "metadata": {
    "editable": true,
    "slideshow": {
     "slide_type": ""
    },
    "tags": []
   },
   "outputs": [
    {
     "data": {
      "text/plain": [
       "array([[4.4, 5.5]])"
      ]
     },
     "execution_count": 42,
     "metadata": {},
     "output_type": "execute_result"
    }
   ],
   "source": [
    "arr[1:2, :2]"
   ]
  },
  {
   "cell_type": "markdown",
   "id": "15bc649f-87c9-4991-bbbb-5c8a93a643b4",
   "metadata": {
    "editable": true,
    "slideshow": {
     "slide_type": "slide"
    },
    "tags": []
   },
   "source": [
    "<center>\n",
    "<img src=\"../img/numpy-memory-layout.png\" width=\"75%\">\n",
    "</center>"
   ]
  },
  {
   "cell_type": "markdown",
   "id": "32ff0f2b-a74a-43df-a78f-fdea208fa134",
   "metadata": {
    "editable": true,
    "slideshow": {
     "slide_type": "slide"
    },
    "tags": []
   },
   "source": [
    "<center>\n",
    "<img src=\"../img/numpy-memory-reshape.png\" width=\"75%\">\n",
    "</center>"
   ]
  },
  {
   "cell_type": "markdown",
   "id": "5524f35a-ab53-41ee-9e7c-bccb1c8eab7e",
   "metadata": {
    "editable": true,
    "slideshow": {
     "slide_type": "slide"
    },
    "tags": []
   },
   "source": [
    "<center>\n",
    "<img src=\"../img/numpy-memory-slice.png\" width=\"75%\">\n",
    "</center>"
   ]
  },
  {
   "cell_type": "markdown",
   "id": "592687b0-4577-4049-8464-ea7adb79bd02",
   "metadata": {
    "editable": true,
    "slideshow": {
     "slide_type": "slide"
    },
    "tags": []
   },
   "source": [
    "**Quizlet:** Slice `three_dimensional` such that it looks like\n",
    "\n",
    "```python\n",
    "[[ 4  9]\n",
    " [24 29]]\n",
    "```"
   ]
  },
  {
   "cell_type": "code",
   "execution_count": 45,
   "id": "ad501a73-025a-4841-a2f1-305373ee0ed9",
   "metadata": {},
   "outputs": [
    {
     "data": {
      "text/plain": [
       "array([[ 4,  9],\n",
       "       [24, 29]])"
      ]
     },
     "execution_count": 45,
     "metadata": {},
     "output_type": "execute_result"
    }
   ],
   "source": [
    "three_dimensional[::2, : ,-1]"
   ]
  },
  {
   "cell_type": "code",
   "execution_count": 44,
   "id": "6169b56f-2499-4bd9-bb6d-b1a9781700a9",
   "metadata": {
    "editable": true,
    "slideshow": {
     "slide_type": ""
    },
    "tags": []
   },
   "outputs": [
    {
     "data": {
      "text/plain": [
       "array([[[ 0,  1,  2,  3,  4],\n",
       "        [ 5,  6,  7,  8,  9]],\n",
       "\n",
       "       [[10, 11, 12, 13, 14],\n",
       "        [15, 16, 17, 18, 19]],\n",
       "\n",
       "       [[20, 21, 22, 23, 24],\n",
       "        [25, 26, 27, 28, 29]]])"
      ]
     },
     "execution_count": 44,
     "metadata": {},
     "output_type": "execute_result"
    }
   ],
   "source": [
    "three_dimensional = np.arange(30).reshape((3, 2, 5))\n",
    "three_dimensional"
   ]
  },
  {
   "cell_type": "markdown",
   "id": "181c2bb0-52cb-4f5f-9b76-c6f8d0cd0933",
   "metadata": {
    "editable": true,
    "slideshow": {
     "slide_type": ""
    },
    "tags": []
   },
   "source": [
    "<br>"
   ]
  },
  {
   "cell_type": "code",
   "execution_count": 46,
   "id": "8cd1cf94-fa07-4a66-b00b-f5dcd04f7283",
   "metadata": {
    "editable": true,
    "slideshow": {
     "slide_type": ""
    },
    "tags": []
   },
   "outputs": [
    {
     "data": {
      "text/plain": [
       "array([[[ 0,  1,  2,  3,  4],\n",
       "        [ 5,  6,  7,  8,  9]],\n",
       "\n",
       "       [[10, 11, 12, 13, 14],\n",
       "        [15, 16, 17, 18, 19]],\n",
       "\n",
       "       [[20, 21, 22, 23, 24],\n",
       "        [25, 26, 27, 28, 29]]])"
      ]
     },
     "execution_count": 46,
     "metadata": {},
     "output_type": "execute_result"
    }
   ],
   "source": [
    "three_dimensional[ : : ]"
   ]
  },
  {
   "cell_type": "markdown",
   "id": "6050e065-e6cb-4f53-95e9-0206e953c7e3",
   "metadata": {
    "editable": true,
    "slideshow": {
     "slide_type": "slide"
    },
    "tags": []
   },
   "source": [
    "### Advanced slicing"
   ]
  },
  {
   "cell_type": "markdown",
   "id": "a5491ed9-cb2c-4e73-a504-a0df5beea2cd",
   "metadata": {
    "editable": true,
    "slideshow": {
     "slide_type": ""
    },
    "tags": []
   },
   "source": [
    "Not only that, but NumPy can slice arrays with arrays."
   ]
  },
  {
   "cell_type": "code",
   "execution_count": 47,
   "id": "99bea524-5ffd-450b-86bc-5d441fbf4c42",
   "metadata": {
    "editable": true,
    "slideshow": {
     "slide_type": ""
    },
    "tags": []
   },
   "outputs": [],
   "source": [
    "arr  = np.array([  0.0,   1.1,   2.2,   3.3,   4.4,  5.5,   6.6,  7.7,   8.8,  9.9])\n",
    "mask = np.array([False, False, False, False, False, True, False, True, False, True])\n",
    "#                                                    5.5          7.7          9.9"
   ]
  },
  {
   "cell_type": "markdown",
   "id": "4cf47615-f550-4092-8210-ac236dc31d1e",
   "metadata": {
    "editable": true,
    "slideshow": {
     "slide_type": ""
    },
    "tags": []
   },
   "source": [
    "<br>"
   ]
  },
  {
   "cell_type": "code",
   "execution_count": 48,
   "id": "63f19921-6eeb-45b7-8a8c-eeb2df129441",
   "metadata": {
    "editable": true,
    "slideshow": {
     "slide_type": ""
    },
    "tags": []
   },
   "outputs": [
    {
     "data": {
      "text/plain": [
       "array([5.5, 7.7, 9.9])"
      ]
     },
     "execution_count": 48,
     "metadata": {},
     "output_type": "execute_result"
    }
   ],
   "source": [
    "arr[mask]"
   ]
  },
  {
   "cell_type": "markdown",
   "id": "028bb00b-dba8-4fb0-9ed2-eb374175445a",
   "metadata": {
    "editable": true,
    "slideshow": {
     "slide_type": "fragment"
    },
    "tags": []
   },
   "source": [
    "<br>\n",
    "\n",
    "An array of integers picks out elements by index."
   ]
  },
  {
   "cell_type": "code",
   "execution_count": 49,
   "id": "8fc0b6d2-2508-47ea-950c-e8d67d8845c6",
   "metadata": {
    "editable": true,
    "slideshow": {
     "slide_type": ""
    },
    "tags": []
   },
   "outputs": [
    {
     "data": {
      "text/plain": [
       "array([5.5, 7.7, 9.9])"
      ]
     },
     "execution_count": 49,
     "metadata": {},
     "output_type": "execute_result"
    }
   ],
   "source": [
    "arr[np.array([5, 7, -1])]"
   ]
  },
  {
   "cell_type": "markdown",
   "id": "ba6a9da4-e781-4069-85a9-797b81b83b7e",
   "metadata": {
    "editable": true,
    "slideshow": {
     "slide_type": "fragment"
    },
    "tags": []
   },
   "source": [
    "<br>\n",
    "\n",
    "They can be out of order."
   ]
  },
  {
   "cell_type": "code",
   "execution_count": 50,
   "id": "e50e9d7c-b10a-42c5-b1e8-5a0194abcc2d",
   "metadata": {
    "editable": true,
    "slideshow": {
     "slide_type": ""
    },
    "tags": []
   },
   "outputs": [
    {
     "data": {
      "text/plain": [
       "array([9.9, 7.7, 5.5])"
      ]
     },
     "execution_count": 50,
     "metadata": {},
     "output_type": "execute_result"
    }
   ],
   "source": [
    "arr[np.array([-1, 7, 5])]"
   ]
  },
  {
   "cell_type": "markdown",
   "id": "ce5c93c4-83c9-4945-b82c-72cd1df5f2fa",
   "metadata": {
    "editable": true,
    "slideshow": {
     "slide_type": "fragment"
    },
    "tags": []
   },
   "source": [
    "<br>\n",
    "\n",
    "They can even include duplicates."
   ]
  },
  {
   "cell_type": "code",
   "execution_count": 51,
   "id": "ac4f02d8-aefd-44bd-b213-e0022059772c",
   "metadata": {
    "editable": true,
    "slideshow": {
     "slide_type": ""
    },
    "tags": []
   },
   "outputs": [
    {
     "data": {
      "text/plain": [
       "array([9.9, 9.9, 9.9, 7.7, 7.7, 5.5])"
      ]
     },
     "execution_count": 51,
     "metadata": {},
     "output_type": "execute_result"
    }
   ],
   "source": [
    "arr[np.array([-1, -1, -1, 7, 7, 5])]"
   ]
  },
  {
   "cell_type": "code",
   "execution_count": 52,
   "id": "89306a21-5814-436a-bec1-824f1199ea68",
   "metadata": {
    "editable": true,
    "slideshow": {
     "slide_type": "slide"
    },
    "tags": []
   },
   "outputs": [],
   "source": [
    "text = \"\"\"\n",
    "WOULD YOU LIKE GREEN EGGS AND HAM?\n",
    "\n",
    "I DO NOT LIKE THEM, SAM-I-AM.\n",
    "I DO NOT LIKE GREEN EGGS AND HAM.\n",
    "\n",
    "WOULD YOU LIKE THEM HERE OR THERE?\n",
    "\n",
    "I WOULD NOT LIKE THEM HERE OR THERE.\n",
    "I WOULD NOT LIKE THEM ANYWHERE.\n",
    "I DO NOT LIKE GREEN EGGS AND HAM.\n",
    "I DO NOT LIKE THEM, SAM-I-AM.\n",
    "\n",
    "WOULD YOU LIKE THEM IN A HOUSE?\n",
    "WOULD YOU LIKE THEN WITH A MOUSE?\n",
    "\n",
    "I DO NOT LIKE THEM IN A HOUSE.\n",
    "I DO NOT LIKE THEM WITH A MOUSE.\n",
    "I DO NOT LIKE THEM HERE OR THERE.\n",
    "I DO NOT LIKE THEM ANYWHERE.\n",
    "I DO NOT LIKE GREEN EGGS AND HAM.\n",
    "I DO NOT LIKE THEM, SAM-I-AM.\n",
    "\n",
    "WOULD YOU EAT THEM IN A BOX?\n",
    "WOULD YOU EAT THEM WITH A FOX?\n",
    "\n",
    "NOT IN A BOX. NOT WITH A FOX.\n",
    "NOT IN A HOUSE. NOT WITH A MOUSE.\n",
    "I WOULD NOT EAT THEM HERE OR THERE.\n",
    "I WOULD NOT EAT THEM ANYWHERE.\n",
    "I WOULD NOT EAT GREEN EGGS AND HAM.\n",
    "I DO NOT LIKE THEM, SAM-I-AM.\n",
    "\"\"\""
   ]
  },
  {
   "cell_type": "code",
   "execution_count": 53,
   "id": "fc8a5607-1879-47cb-a027-3b1892c48153",
   "metadata": {
    "editable": true,
    "slideshow": {
     "slide_type": "slide"
    },
    "tags": []
   },
   "outputs": [],
   "source": [
    "words = np.array(text.replace(\",\", \" \").replace(\".\", \" \").replace(\"?\", \" \").replace(\"!\", \" \").replace(\"-\", \" \").split())\n",
    "dictionary, index = np.unique(words, return_inverse=True)"
   ]
  },
  {
   "cell_type": "markdown",
   "id": "8d018016-5de6-4912-b2b6-ac9cb60b15bd",
   "metadata": {
    "editable": true,
    "slideshow": {
     "slide_type": ""
    },
    "tags": []
   },
   "source": [
    "<br>"
   ]
  },
  {
   "cell_type": "code",
   "execution_count": 54,
   "id": "8155c52e-687f-4b33-a428-da954a463b16",
   "metadata": {
    "editable": true,
    "slideshow": {
     "slide_type": ""
    },
    "tags": []
   },
   "outputs": [
    {
     "data": {
      "text/plain": [
       "array(['A', 'AM', 'AND', 'ANYWHERE', 'BOX', 'DO', 'EAT', 'EGGS', 'FOX',\n",
       "       'GREEN', 'HAM', 'HERE', 'HOUSE', 'I', 'IN', 'LIKE', 'MOUSE', 'NOT',\n",
       "       'OR', 'SAM', 'THEM', 'THEN', 'THERE', 'WITH', 'WOULD', 'YOU'],\n",
       "      dtype='<U8')"
      ]
     },
     "execution_count": 54,
     "metadata": {},
     "output_type": "execute_result"
    }
   ],
   "source": [
    "dictionary"
   ]
  },
  {
   "cell_type": "markdown",
   "id": "c0ebd51d-3746-4a2a-8265-9099131b27fc",
   "metadata": {
    "editable": true,
    "slideshow": {
     "slide_type": ""
    },
    "tags": []
   },
   "source": [
    "<br>"
   ]
  },
  {
   "cell_type": "code",
   "execution_count": 55,
   "id": "108f79c8-cd02-448f-a329-9e70246a0dd7",
   "metadata": {
    "editable": true,
    "slideshow": {
     "slide_type": ""
    },
    "tags": []
   },
   "outputs": [
    {
     "data": {
      "text/plain": [
       "array([24, 25, 15,  9,  7,  2, 10, 13,  5, 17, 15, 20, 19, 13,  1, 13,  5,\n",
       "       17, 15,  9,  7,  2, 10, 24, 25, 15, 20, 11, 18, 22, 13, 24, 17, 15,\n",
       "       20, 11, 18, 22, 13, 24, 17, 15, 20,  3, 13,  5, 17, 15,  9,  7,  2,\n",
       "       10, 13,  5, 17, 15, 20, 19, 13,  1, 24, 25, 15, 20, 14,  0, 12, 24,\n",
       "       25, 15, 21, 23,  0, 16, 13,  5, 17, 15, 20, 14,  0, 12, 13,  5, 17,\n",
       "       15, 20, 23,  0, 16, 13,  5, 17, 15, 20, 11, 18, 22, 13,  5, 17, 15,\n",
       "       20,  3, 13,  5, 17, 15,  9,  7,  2, 10, 13,  5, 17, 15, 20, 19, 13,\n",
       "        1, 24, 25,  6, 20, 14,  0,  4, 24, 25,  6, 20, 23,  0,  8, 17, 14,\n",
       "        0,  4, 17, 23,  0,  8, 17, 14,  0, 12, 17, 23,  0, 16, 13, 24, 17,\n",
       "        6, 20, 11, 18, 22, 13, 24, 17,  6, 20,  3, 13, 24, 17,  6,  9,  7,\n",
       "        2, 10, 13,  5, 17, 15, 20, 19, 13,  1])"
      ]
     },
     "execution_count": 55,
     "metadata": {},
     "output_type": "execute_result"
    }
   ],
   "source": [
    "index"
   ]
  },
  {
   "cell_type": "markdown",
   "id": "a7f9976b-a61a-44e1-9853-253a9be83899",
   "metadata": {
    "editable": true,
    "slideshow": {
     "slide_type": "slide"
    },
    "tags": []
   },
   "source": [
    "**Quizlet:** What's going to happen?"
   ]
  },
  {
   "cell_type": "markdown",
   "id": "45092a2f-00bb-492e-bbbe-d93df5acff6a",
   "metadata": {
    "editable": true,
    "slideshow": {
     "slide_type": ""
    },
    "tags": []
   },
   "source": [
    "<br>"
   ]
  },
  {
   "cell_type": "code",
   "execution_count": 56,
   "id": "783e832e-7216-49d5-a04a-53e391263d0e",
   "metadata": {
    "editable": true,
    "slideshow": {
     "slide_type": ""
    },
    "tags": []
   },
   "outputs": [
    {
     "data": {
      "text/plain": [
       "array(['WOULD', 'YOU', 'LIKE', 'GREEN', 'EGGS', 'AND', 'HAM', 'I', 'DO',\n",
       "       'NOT', 'LIKE', 'THEM', 'SAM', 'I', 'AM', 'I', 'DO', 'NOT', 'LIKE',\n",
       "       'GREEN', 'EGGS', 'AND', 'HAM', 'WOULD', 'YOU', 'LIKE', 'THEM',\n",
       "       'HERE', 'OR', 'THERE', 'I', 'WOULD', 'NOT', 'LIKE', 'THEM', 'HERE',\n",
       "       'OR', 'THERE', 'I', 'WOULD', 'NOT', 'LIKE', 'THEM', 'ANYWHERE',\n",
       "       'I', 'DO', 'NOT', 'LIKE', 'GREEN', 'EGGS', 'AND', 'HAM', 'I', 'DO',\n",
       "       'NOT', 'LIKE', 'THEM', 'SAM', 'I', 'AM', 'WOULD', 'YOU', 'LIKE',\n",
       "       'THEM', 'IN', 'A', 'HOUSE', 'WOULD', 'YOU', 'LIKE', 'THEN', 'WITH',\n",
       "       'A', 'MOUSE', 'I', 'DO', 'NOT', 'LIKE', 'THEM', 'IN', 'A', 'HOUSE',\n",
       "       'I', 'DO', 'NOT', 'LIKE', 'THEM', 'WITH', 'A', 'MOUSE', 'I', 'DO',\n",
       "       'NOT', 'LIKE', 'THEM', 'HERE', 'OR', 'THERE', 'I', 'DO', 'NOT',\n",
       "       'LIKE', 'THEM', 'ANYWHERE', 'I', 'DO', 'NOT', 'LIKE', 'GREEN',\n",
       "       'EGGS', 'AND', 'HAM', 'I', 'DO', 'NOT', 'LIKE', 'THEM', 'SAM', 'I',\n",
       "       'AM', 'WOULD', 'YOU', 'EAT', 'THEM', 'IN', 'A', 'BOX', 'WOULD',\n",
       "       'YOU', 'EAT', 'THEM', 'WITH', 'A', 'FOX', 'NOT', 'IN', 'A', 'BOX',\n",
       "       'NOT', 'WITH', 'A', 'FOX', 'NOT', 'IN', 'A', 'HOUSE', 'NOT',\n",
       "       'WITH', 'A', 'MOUSE', 'I', 'WOULD', 'NOT', 'EAT', 'THEM', 'HERE',\n",
       "       'OR', 'THERE', 'I', 'WOULD', 'NOT', 'EAT', 'THEM', 'ANYWHERE', 'I',\n",
       "       'WOULD', 'NOT', 'EAT', 'GREEN', 'EGGS', 'AND', 'HAM', 'I', 'DO',\n",
       "       'NOT', 'LIKE', 'THEM', 'SAM', 'I', 'AM'], dtype='<U8')"
      ]
     },
     "execution_count": 56,
     "metadata": {},
     "output_type": "execute_result"
    }
   ],
   "source": [
    "dictionary[index]"
   ]
  },
  {
   "cell_type": "markdown",
   "id": "25bbcb49-6faa-4a2c-9b78-3a47fae28cce",
   "metadata": {
    "editable": true,
    "slideshow": {
     "slide_type": ""
    },
    "tags": []
   },
   "source": [
    "<br>\n",
    "\n",
    "<details>\n",
    "    <summary><b>Hint...</b></summary>\n",
    "\n",
    "<br>\n",
    "\n",
    "```\n",
    "index             : positions in corpus (0, 1, 2, ...) → integer codes\n",
    "dictionary        : integer codes                      → words\n",
    "\n",
    "dictionary[index] : positions in corpus (0, 1, 2, ...) → words\n",
    "```\n",
    "\n",
    "</details>"
   ]
  },
  {
   "cell_type": "markdown",
   "id": "bfbdf2b3-e982-4b72-9046-cfe551828760",
   "metadata": {
    "editable": true,
    "slideshow": {
     "slide_type": "slide"
    },
    "tags": []
   },
   "source": [
    "### Reductions"
   ]
  },
  {
   "attachments": {},
   "cell_type": "markdown",
   "id": "8caf5b0d-330a-4582-b429-4fb89d03bbb5",
   "metadata": {
    "editable": true,
    "slideshow": {
     "slide_type": ""
    },
    "tags": []
   },
   "source": [
    "We've seen operations that apply to each element of an array, producing a new array of the same length (\"map\").\n",
    "\n",
    "NumPy also has operations that turn $n$-dimensional arrays into $(n-1)$-dimensional arrays (\"reduce\")."
   ]
  },
  {
   "cell_type": "markdown",
   "id": "755ff407-48b6-4bbb-b400-ab28ca175eaf",
   "metadata": {
    "editable": true,
    "slideshow": {
     "slide_type": ""
    },
    "tags": []
   },
   "source": [
    "<center>\n",
    "<img src=\"../img/example-reducer-2d.svg\" width=\"50%\">\n",
    "</center>"
   ]
  },
  {
   "cell_type": "code",
   "execution_count": 57,
   "id": "5474920c-c378-4602-848d-162aa1341fae",
   "metadata": {
    "editable": true,
    "slideshow": {
     "slide_type": "slide"
    },
    "tags": []
   },
   "outputs": [],
   "source": [
    "arr = np.array([[  1,   2,   3,   4],\n",
    "                [ 10,  20,  30,  40],\n",
    "                [100, 200, 300, 400]])"
   ]
  },
  {
   "cell_type": "markdown",
   "id": "2e363413-dce4-4969-b251-331e3d9de91a",
   "metadata": {
    "@deathbeds/jupyterlab-fonts": {
     "styles": {
      "": {
       "body[data-jp-deck-mode='presenting'] &": {
        "height": null,
        "left": null,
        "position": null,
        "top": null,
        "width": null
       }
      }
     }
    },
    "editable": true,
    "slideshow": {
     "slide_type": ""
    },
    "tags": []
   },
   "source": [
    "<br>"
   ]
  },
  {
   "cell_type": "code",
   "execution_count": 58,
   "id": "a97d2d7a-e06b-4f06-a48b-9178572decf3",
   "metadata": {
    "@deathbeds/jupyterlab-fonts": {
     "styles": {
      "": {
       "body[data-jp-deck-mode='presenting'] &": {
        "height": null,
        "left": null,
        "position": null,
        "top": null,
        "width": null
       }
      }
     }
    },
    "editable": true,
    "slideshow": {
     "slide_type": ""
    },
    "tags": []
   },
   "outputs": [
    {
     "data": {
      "text/plain": [
       "array([111, 222, 333, 444])"
      ]
     },
     "execution_count": 58,
     "metadata": {},
     "output_type": "execute_result"
    }
   ],
   "source": [
    "np.sum(arr, axis=0)"
   ]
  },
  {
   "cell_type": "markdown",
   "id": "3292f598-e857-4d41-a2da-cb6f5ca0f85c",
   "metadata": {
    "@deathbeds/jupyterlab-fonts": {
     "styles": {
      "": {
       "body[data-jp-deck-mode='presenting'] &": {
        "height": null,
        "left": null,
        "position": null,
        "top": null,
        "width": null
       }
      }
     }
    },
    "editable": true,
    "slideshow": {
     "slide_type": ""
    },
    "tags": []
   },
   "source": [
    "<br>"
   ]
  },
  {
   "cell_type": "code",
   "execution_count": 59,
   "id": "3f2f62e3-ae8f-4273-8b39-a8e691f43a45",
   "metadata": {
    "editable": true,
    "slideshow": {
     "slide_type": ""
    },
    "tags": []
   },
   "outputs": [
    {
     "data": {
      "text/plain": [
       "array([  10,  100, 1000])"
      ]
     },
     "execution_count": 59,
     "metadata": {},
     "output_type": "execute_result"
    }
   ],
   "source": [
    "np.sum(arr, axis=1)"
   ]
  },
  {
   "cell_type": "markdown",
   "id": "a5f171a0-8256-487b-a45f-f572c2a6e12a",
   "metadata": {
    "editable": true,
    "slideshow": {
     "slide_type": "slide"
    },
    "tags": []
   },
   "source": [
    "**Example:** Downsample this curve to make it less noisy."
   ]
  },
  {
   "cell_type": "markdown",
   "id": "0dba6d8f-ad8d-48ec-af85-e96dcf475caf",
   "metadata": {
    "editable": true,
    "slideshow": {
     "slide_type": ""
    },
    "tags": []
   },
   "source": [
    "<br>"
   ]
  },
  {
   "cell_type": "markdown",
   "id": "2a637dbe-92ff-4158-93bc-5788b78f4430",
   "metadata": {
    "editable": true,
    "slideshow": {
     "slide_type": ""
    },
    "tags": []
   },
   "source": [
    "<br>"
   ]
  },
  {
   "cell_type": "code",
   "execution_count": 61,
   "id": "e1f87a97-d2ff-4814-9306-d4fb0ba7a09c",
   "metadata": {
    "editable": true,
    "slideshow": {
     "slide_type": ""
    },
    "tags": []
   },
   "outputs": [
    {
     "data": {
      "text/plain": [
       "array([-1.14207303e+00, -1.49604523e-01, -3.48416343e-01, -7.69457910e-01,\n",
       "        7.23487787e-01, -1.34337450e-01, -2.68269497e-01,  3.98783712e-01,\n",
       "        7.17808332e-01,  4.91072915e-01, -8.25201665e-01, -3.29981952e-02,\n",
       "       -3.83193304e-01,  2.09559278e-01,  2.56428468e-01, -5.16801145e-01,\n",
       "        1.12383846e-01, -8.29543952e-01,  2.17029489e-01, -8.63455280e-02,\n",
       "        5.53103576e-01,  5.41398990e-02, -5.32093288e-01, -1.66596460e-01,\n",
       "       -8.00553771e-01,  5.62204910e-01,  1.65915886e-01,  2.23873405e-01,\n",
       "       -1.17330109e-01,  4.61114424e-01,  2.50592730e-01,  4.02897860e-01,\n",
       "        1.98721085e-01,  1.48680824e-01,  9.41066094e-01, -1.60312478e-01,\n",
       "        3.10362037e-01,  8.37302325e-02, -3.35346758e-02, -5.72115086e-01,\n",
       "        9.24656741e-01,  1.13836210e+00,  5.93020029e-01, -3.55409685e-01,\n",
       "        6.13040980e-01,  1.67690695e-01,  3.78854982e-01,  2.36641924e-01,\n",
       "       -1.58136809e-01,  3.66731538e-01,  1.02071669e-02,  1.31624406e-01,\n",
       "        1.45983533e+00, -7.56358279e-01,  2.40042991e-01,  6.38775226e-01,\n",
       "        4.91649926e-01,  1.22602230e+00,  8.98575743e-01, -1.51160991e-01,\n",
       "        5.52445497e-01,  1.31724766e+00,  1.12024203e+00,  5.68460073e-01,\n",
       "        2.09344194e-01, -1.13234306e-01,  5.88334884e-01,  2.26928861e-01,\n",
       "        1.03466175e-01, -7.25825096e-01,  7.71292173e-01,  1.29201730e-01,\n",
       "        2.86001874e-02,  1.07819545e+00,  7.21688916e-01,  5.61158085e-01,\n",
       "        7.67231456e-01, -3.46134018e-01,  8.12674019e-01,  4.53417368e-01,\n",
       "        8.86136971e-02, -1.47119613e-01, -2.44336721e-01,  1.17158143e+00,\n",
       "        1.32638910e+00,  4.09771521e-01, -1.71803551e-01, -8.18290649e-02,\n",
       "        5.94290203e-01,  1.46369049e+00,  4.77452511e-01,  1.64972192e-01,\n",
       "        7.64210295e-01,  2.60722954e-01,  9.92090992e-01, -2.73015902e-01,\n",
       "        9.86252230e-01,  1.49640858e-01,  1.00859911e+00,  3.77346482e-02,\n",
       "        1.06396004e+00,  3.32532445e-01, -1.36581794e-01,  1.60320463e-02,\n",
       "        1.42620918e+00,  4.29679263e-01,  7.41627901e-01,  7.28733440e-01,\n",
       "        2.89148038e-01,  1.29986902e+00,  7.39565427e-01,  8.24186290e-01,\n",
       "        2.87738051e-01,  4.26955803e-01,  1.13324893e+00,  2.73489733e+00,\n",
       "        3.95290222e-01,  1.05782901e+00,  6.05598060e-01,  1.42273081e+00,\n",
       "       -4.13740092e-01,  4.18828463e-01,  7.79547720e-01,  2.92671612e-01,\n",
       "        1.17158646e+00,  7.46048867e-01,  2.06199887e-01,  2.33471410e-02,\n",
       "       -6.67318000e-02,  4.51199295e-01,  7.64278906e-01, -5.10505105e-01,\n",
       "        6.97218041e-01,  8.61240618e-01,  8.42513085e-01,  9.96446140e-01,\n",
       "        1.56529279e+00, -3.45472933e-01,  8.31159100e-01,  8.80039512e-01,\n",
       "        9.67597358e-01,  4.61830972e-01,  3.80350925e-01,  2.73303630e-01,\n",
       "        2.41988387e-02,  5.29218070e-01,  8.22926205e-01, -8.82381544e-02,\n",
       "        7.13082684e-01,  1.32361356e+00,  9.69033237e-01,  4.18582232e-01,\n",
       "       -7.55450548e-02,  1.31759218e+00,  5.90226891e-01,  1.12705276e+00,\n",
       "        8.67421897e-01,  1.02938356e+00,  5.99476226e-01,  8.06294154e-01,\n",
       "        1.50419909e+00,  1.16618207e+00,  1.08685092e+00,  5.17253952e-01,\n",
       "       -4.00369627e-01,  1.04398845e+00,  7.89830882e-01,  7.11473015e-01,\n",
       "        3.62815636e-01,  1.16868431e+00,  4.89806337e-01,  5.96144378e-01,\n",
       "        7.24460062e-01,  5.15883734e-01,  5.37780622e-01,  1.10069632e+00,\n",
       "        1.94238648e+00,  8.67858930e-01,  8.85912427e-01,  1.06453925e+00,\n",
       "        1.28467660e+00,  7.54890320e-01,  1.10739595e+00, -1.54856267e-01,\n",
       "        1.95025389e+00,  1.41296213e+00,  1.21846200e+00,  2.00007138e-01,\n",
       "        1.52074702e+00,  9.97520679e-01,  2.03748307e-01,  1.23322508e+00,\n",
       "        9.23520001e-01, -6.49853169e-02,  2.57369255e-02,  1.11244830e+00,\n",
       "        1.42765678e+00,  2.00006111e+00,  6.43006199e-01,  2.24067331e-01,\n",
       "        1.68111132e+00,  9.36948602e-01,  1.72639197e+00,  8.06467159e-01,\n",
       "       -8.21787344e-02,  1.32448435e+00,  5.43433427e-01,  4.24776398e-01,\n",
       "        1.14353293e+00,  1.57669786e+00,  1.05072252e+00,  5.65509950e-01,\n",
       "        1.09770962e+00,  1.06255208e+00,  2.09298454e-01,  1.26662610e+00,\n",
       "        7.10267562e-01,  8.86514819e-01,  1.80146928e+00,  1.44540745e+00,\n",
       "        1.33013162e+00,  1.84628035e+00,  2.16514498e-01,  1.33431802e+00,\n",
       "        3.83128143e-01,  6.01222129e-01,  9.82695736e-02,  1.42393297e+00,\n",
       "        1.25801079e+00,  7.39173901e-02,  1.35890859e+00,  5.52423110e-01,\n",
       "        5.59313752e-01,  1.63953141e+00,  1.88308764e-01, -6.75670606e-02,\n",
       "        1.61551574e+00,  1.01986349e+00,  5.93305452e-01,  8.90738536e-01,\n",
       "        5.59398303e-01,  2.74330314e-01,  4.30608044e-01,  7.71497053e-01,\n",
       "        1.00811615e+00,  3.97248772e-01,  5.24274665e-01,  2.83948347e-01,\n",
       "        4.77586427e-01,  1.35675671e+00,  1.88740066e-01,  4.16588917e-01,\n",
       "        1.60536216e+00,  1.95317365e+00,  8.77802717e-01,  1.55210376e+00,\n",
       "        1.55894365e-01,  1.52486744e+00,  1.24343752e+00,  1.58037978e+00,\n",
       "        7.23002367e-01,  1.07478828e+00,  1.04168455e+00,  1.21746640e+00,\n",
       "        5.21224852e-01,  8.61541786e-01,  2.34147613e+00,  7.36996053e-01,\n",
       "        1.04965628e+00,  1.92127896e+00,  8.69904276e-01, -1.90172636e-01,\n",
       "        7.15230168e-01,  9.61308895e-01,  7.50631685e-01,  6.99261272e-01,\n",
       "        1.79950007e+00,  5.17931770e-01,  1.20935814e+00,  7.31517683e-01,\n",
       "        1.05398250e+00,  9.26810736e-01,  7.39585607e-01,  1.18370603e+00,\n",
       "        1.61955302e+00,  8.36263334e-01,  1.03084511e+00,  1.50399679e+00,\n",
       "        9.82160740e-01,  1.25583930e+00,  1.43325067e+00,  7.25122111e-01,\n",
       "        1.07467540e+00,  1.31199585e+00,  2.16330363e+00,  1.94972659e+00,\n",
       "        5.33225050e-01,  1.62969333e-01,  9.40311092e-01,  2.07274704e+00,\n",
       "        1.67235112e-01,  9.34627232e-01,  1.33378155e+00,  1.40601486e+00,\n",
       "       -4.74267115e-01,  2.01769250e+00,  1.55672863e-01,  1.21608426e+00,\n",
       "        1.09165913e+00,  1.84768460e+00,  1.68440643e+00,  1.09920398e+00,\n",
       "        6.89085701e-01,  4.41767176e-01,  1.09700134e+00,  1.94798223e-01,\n",
       "        1.71361003e+00,  2.82406035e-01,  6.77900246e-01,  4.27664737e-01,\n",
       "        1.17793276e+00,  5.18778210e-01,  1.55724785e+00,  1.17452591e+00,\n",
       "        7.49092807e-01,  3.30702072e-02,  1.29775702e+00,  5.72696191e-01,\n",
       "        1.31521719e+00,  1.04337030e+00,  1.25334235e+00,  7.20523668e-01,\n",
       "        3.23345045e-01, -2.71073273e-01,  1.23777599e-01,  6.45645936e-01,\n",
       "        9.93127921e-01,  1.04909000e+00,  5.92177137e-01,  1.52914056e+00,\n",
       "        9.73061582e-01,  3.39697375e-01,  8.22476837e-01,  3.65338089e-01,\n",
       "        1.01909208e+00,  1.22056624e+00,  1.21373840e+00,  1.12670450e+00,\n",
       "        5.26490816e-01,  6.93185292e-02,  1.27992618e+00,  1.09145696e+00,\n",
       "        9.78338045e-01,  1.38481217e+00,  9.93672053e-01,  4.83915545e-01,\n",
       "        9.60736912e-01,  1.61727339e-01,  3.39650898e-01,  1.57456526e+00,\n",
       "        6.87194401e-01,  1.47624847e+00,  1.10895614e+00,  9.65836809e-01,\n",
       "        9.88876302e-01,  1.88469760e+00,  3.79507821e-01,  4.98439959e-02,\n",
       "        1.35680143e+00,  5.93167666e-01,  2.16244491e-01,  8.41404546e-01,\n",
       "        9.34718474e-01,  7.30374202e-01,  1.14085452e+00,  6.19040929e-01,\n",
       "        2.77190268e-01,  2.95850892e-01,  3.43374818e-03,  2.96428888e-01,\n",
       "        1.38958572e+00,  1.19638556e-01,  9.75628598e-01,  2.05002654e+00,\n",
       "       -2.88804157e-01,  1.12639030e+00,  8.33611383e-01, -7.05229203e-02,\n",
       "        1.21383611e+00,  5.49716415e-01, -2.62304890e-01,  1.37532355e-01,\n",
       "        1.17913133e+00,  9.76629692e-01,  1.82490843e+00,  5.06041615e-01,\n",
       "        8.20755286e-01,  7.69584308e-02,  5.35182929e-01,  7.84050215e-01,\n",
       "        1.52405550e+00,  1.46058874e+00,  5.65990517e-01,  6.20486958e-01,\n",
       "       -3.88534585e-01,  9.98707091e-01, -7.57622515e-01,  8.73379270e-02,\n",
       "        1.21526154e+00,  8.41323267e-01,  9.67122143e-02,  1.07911430e+00,\n",
       "        9.87492594e-01,  5.61888642e-01,  4.58611949e-01,  7.72731981e-01,\n",
       "        1.50640569e+00,  1.81021720e-01,  3.36921045e-01,  9.54713397e-01,\n",
       "        1.72961248e-01,  3.70696974e-01, -2.56245356e-02,  4.74941436e-01,\n",
       "        9.87219636e-01,  1.32501794e+00,  8.42156441e-01,  2.98384588e-01,\n",
       "        6.11424823e-01,  5.34600395e-01, -8.31255607e-02,  2.61005491e-01,\n",
       "        2.47825684e-01, -1.12209464e-01,  5.88254066e-01, -3.12442520e-01,\n",
       "        4.92266049e-01, -6.44239799e-02, -2.03118339e-02,  7.37982882e-01,\n",
       "        4.34475605e-01,  1.14835338e-01,  1.08354460e+00,  5.13412437e-01,\n",
       "        6.78363481e-01,  7.00487427e-02,  5.84683523e-01,  1.41612293e-02,\n",
       "       -8.28161338e-02,  3.61265849e-01,  3.29384964e-02, -5.38641726e-02,\n",
       "       -4.66422010e-01,  3.65994322e-02, -2.14622644e-01,  6.58377724e-01,\n",
       "        8.94565783e-01,  7.07418395e-01, -8.09666000e-02,  2.92265955e-01,\n",
       "        2.34268589e-01,  4.54911573e-01,  9.25877329e-03, -2.30439771e-01,\n",
       "       -4.05732612e-01,  3.33053290e-01,  3.27977548e-01,  1.97921442e-01,\n",
       "        3.30107723e-02,  1.39058769e+00, -1.10477385e-02,  8.47355646e-03,\n",
       "        3.45381535e-01,  6.18228070e-01, -3.17095910e-01, -4.36562955e-01,\n",
       "        1.06603889e+00,  4.17372762e-01,  2.01162748e-01, -3.21831464e-02,\n",
       "        1.02548020e+00, -5.48123781e-01, -6.78547368e-02, -5.03198021e-02,\n",
       "       -1.15637514e-01, -3.19781991e-01,  7.36366575e-01,  7.20417103e-01,\n",
       "       -2.66086928e-01,  5.82938411e-01, -4.80529991e-01, -1.19330053e+00,\n",
       "       -5.40046489e-02,  1.07784672e-01,  3.98670130e-01, -6.00060232e-01,\n",
       "        3.60049387e-01,  1.51797404e-01,  1.21756198e-01,  1.06915170e+00,\n",
       "       -3.10975763e-01, -1.09814541e+00, -9.53820398e-01, -3.06765583e-01,\n",
       "        1.98205355e-01,  1.63458925e-01, -1.33667131e-01,  4.69806742e-01,\n",
       "       -2.64088751e-01, -6.31304563e-01, -1.28160322e-01, -4.96819618e-01,\n",
       "       -5.90357415e-01,  3.48910115e-01,  4.13574276e-02,  2.39241491e-01,\n",
       "        4.72457601e-02, -4.01783903e-01,  3.48972453e-03, -2.41326490e-01,\n",
       "        8.14047835e-01, -3.93990823e-01,  1.63085736e-01, -4.15223004e-01,\n",
       "        1.01585295e-01,  5.18893610e-02, -5.32879385e-01, -4.17471377e-02,\n",
       "       -2.25185211e-01,  4.82019918e-01,  2.84558819e-01, -7.95544963e-01,\n",
       "       -4.41180659e-01, -6.33286301e-01,  1.98657010e-01, -4.03451450e-01,\n",
       "       -2.74726337e-01,  1.21522453e-01, -3.19486488e-01, -6.78407190e-02,\n",
       "       -5.83093800e-01, -2.01688699e-01,  2.67459431e-01, -1.28012635e-01,\n",
       "        5.58597683e-02, -7.97485276e-01,  5.01035832e-02, -1.03428195e+00,\n",
       "       -1.61666778e-02, -3.37196527e-01, -5.05322196e-01, -4.92641964e-01,\n",
       "       -6.70693193e-01,  5.12931142e-02, -1.55906694e-01,  4.36938472e-01,\n",
       "       -2.07658581e-01, -9.70908234e-01, -9.03843452e-01, -6.43241724e-01,\n",
       "       -2.00337940e-01, -1.09818468e+00, -2.36513350e-01, -5.60118340e-01,\n",
       "       -7.69698568e-01, -9.77363190e-01, -5.59471734e-01,  2.32097416e-01,\n",
       "       -4.46098776e-01, -1.09927768e+00, -5.83676303e-01, -2.31322056e-01,\n",
       "        3.32049524e-01,  1.70131924e-01,  6.54701641e-01, -7.38498858e-01,\n",
       "       -8.88108367e-01, -9.92249983e-01, -3.18067906e-03, -5.16933910e-01,\n",
       "       -1.52249550e+00, -1.35065662e+00, -6.93022370e-01, -1.08365425e+00,\n",
       "       -8.62010933e-01,  5.77419586e-01, -6.83202278e-02, -3.97369407e-01,\n",
       "        4.40629511e-01,  1.36280750e-01, -9.54211011e-01, -1.30892195e+00,\n",
       "       -1.02598094e+00,  1.66833977e-01, -5.34330908e-01, -4.71423524e-01,\n",
       "       -1.53311857e+00, -1.24688323e-01, -1.02089097e+00, -1.61568719e+00,\n",
       "       -1.14559765e+00, -6.50186274e-01, -1.86515788e+00, -3.11859393e-01,\n",
       "       -7.85717967e-01, -4.26418034e-01, -4.52575097e-01, -5.98311693e-01,\n",
       "       -4.72566831e-01, -3.35148051e-01, -4.09402078e-01, -1.33628287e+00,\n",
       "       -3.09499261e-01, -6.05443251e-01, -3.64648213e-01, -6.40350614e-02,\n",
       "       -8.91108356e-02, -8.84091904e-01, -8.08229927e-01, -6.93647757e-01,\n",
       "       -5.14459971e-01, -5.00401678e-01,  1.88469666e-02, -4.60506681e-01,\n",
       "       -1.35780621e-01, -8.39144825e-01, -9.45758516e-01, -1.42770371e+00,\n",
       "       -1.25896934e+00, -7.38305192e-01, -1.12293867e+00, -3.95344353e-03,\n",
       "       -6.25519974e-02, -7.35333589e-01,  6.39114023e-02, -1.42660293e+00,\n",
       "       -8.70195667e-01, -9.90459475e-01, -1.58738528e+00, -1.53907624e-01,\n",
       "       -5.98229956e-01, -5.60256522e-01, -1.77430664e+00, -1.69209393e+00,\n",
       "       -7.94799388e-01, -7.59776276e-01, -1.46212288e+00, -1.04006081e+00,\n",
       "       -1.12946306e+00, -1.13044048e+00, -8.72166516e-01, -7.42490340e-01,\n",
       "       -1.00516446e+00, -1.12667827e-01, -5.30943022e-01, -9.46355394e-01,\n",
       "        2.17666638e-01, -4.89962438e-01, -2.94501462e-01, -8.97018240e-01,\n",
       "       -1.85479295e+00, -5.76513677e-01, -5.26996592e-01,  1.39383051e-01,\n",
       "       -1.69506675e+00, -3.78808935e-01, -7.70695338e-01, -8.07039338e-01,\n",
       "       -1.80328602e+00, -1.01816502e+00, -1.05962401e+00, -1.03670488e+00,\n",
       "       -1.27454766e+00, -8.61498214e-01, -5.96901246e-01, -8.45941472e-01,\n",
       "       -1.11313562e+00, -6.82479174e-01, -1.46113206e-01, -1.34623454e+00,\n",
       "        8.94156002e-02,  9.43084604e-02, -4.29013279e-01, -8.57175314e-01,\n",
       "       -1.74316558e+00, -1.27138374e+00, -1.68891193e+00, -2.17899760e+00,\n",
       "       -3.74046972e-01, -8.19356080e-01, -6.73061165e-01, -7.64475534e-01,\n",
       "       -8.69493289e-01, -1.28137246e+00, -1.14150605e+00, -1.83473529e+00,\n",
       "       -7.91986484e-01, -6.26494118e-01, -1.86541253e+00, -6.13682450e-01,\n",
       "       -4.30306408e-01, -3.53153528e-01, -1.47505188e+00, -8.37695525e-01,\n",
       "       -7.95066901e-01, -5.73076386e-01, -6.98512873e-01, -1.06901551e+00,\n",
       "       -1.34263945e+00, -7.48013394e-01, -1.93804250e+00, -4.57870052e-01,\n",
       "       -7.49886071e-01, -8.12170322e-01, -1.11320099e+00, -1.36441584e+00,\n",
       "       -1.11336352e+00, -6.88203641e-01, -4.52592369e-02, -1.50564279e+00,\n",
       "       -5.04908158e-01, -7.75189022e-01, -1.44031232e+00, -1.56038791e+00,\n",
       "       -5.42240560e-01, -5.22619700e-01, -5.31129100e-01, -4.36580203e-01,\n",
       "       -8.90174125e-01, -1.59530056e+00, -8.48410658e-01, -5.61765433e-01,\n",
       "       -1.95940935e-01, -1.04801185e+00, -2.08860661e+00,  1.97453771e-01,\n",
       "       -1.88121491e-01, -1.33276920e+00, -1.34018658e+00, -1.34159594e+00,\n",
       "       -6.65549724e-01, -8.94325369e-01, -8.68985832e-01, -8.20995697e-01,\n",
       "       -2.75175218e-01, -1.25290849e+00, -1.03299708e+00, -1.46751915e+00,\n",
       "       -1.06583828e+00, -4.86295843e-01, -1.83728698e+00, -1.40479941e+00,\n",
       "       -6.31501311e-01, -1.28903781e+00, -8.96286392e-01, -1.60887381e+00,\n",
       "       -6.82443931e-02, -1.02439351e+00,  1.61394142e-01, -1.09650187e+00,\n",
       "       -1.43065207e+00, -5.87074404e-01, -9.85201445e-01, -8.36221343e-01,\n",
       "       -8.77597157e-01, -3.52596943e-01, -7.77380632e-01, -6.10239208e-01,\n",
       "       -1.13085519e+00, -1.29871695e+00, -1.48384041e+00, -4.19726287e-01,\n",
       "       -7.26219927e-01, -1.01945400e+00,  7.14263494e-01, -9.71050494e-01,\n",
       "       -3.41743803e-01, -1.23647344e+00, -8.38135437e-01, -1.39776789e+00,\n",
       "       -9.53960613e-01, -1.74773799e+00, -2.94233324e-01, -1.23993862e+00,\n",
       "       -7.78768363e-01, -9.58961303e-01, -3.16622352e-01, -7.44166592e-01,\n",
       "       -1.05239291e+00, -1.21469172e+00, -1.31896870e+00, -7.64349354e-01,\n",
       "       -2.57490359e+00, -9.53457068e-01, -1.09528213e+00, -5.52985078e-01,\n",
       "       -1.83320046e+00, -1.44242856e-01, -2.07499466e+00, -4.67260737e-03,\n",
       "       -4.44540691e-01, -8.79236315e-01, -8.14932733e-01, -6.41566665e-01,\n",
       "       -4.89593190e-01, -6.10890185e-01, -1.11491480e+00, -1.78683096e+00,\n",
       "       -6.12242974e-01, -1.24140790e+00, -1.55245395e+00, -1.08731893e+00,\n",
       "       -7.95629381e-01, -1.32318884e+00, -5.27045818e-01, -4.83776495e-02,\n",
       "       -2.59374536e-02, -9.08831789e-01, -1.97758542e+00, -7.79567134e-01,\n",
       "        1.73815830e-01, -3.40821707e-01, -1.14721798e+00, -2.02706455e+00,\n",
       "       -3.72732263e-01, -1.46556377e+00, -1.77714040e+00, -9.09358633e-01,\n",
       "       -8.35074410e-01, -9.09577203e-01, -5.18619026e-01, -2.21072176e+00,\n",
       "       -8.59603539e-01, -7.35074259e-01, -9.38595567e-01,  1.71680521e-01,\n",
       "       -9.08605408e-01, -4.60027064e-01, -6.51720851e-01, -9.38772815e-01,\n",
       "       -8.97084296e-01, -1.18623733e+00, -2.86333256e-02, -7.63540945e-01,\n",
       "        1.53426946e-02, -6.94491034e-01, -1.12915591e+00, -5.79164888e-01,\n",
       "       -4.06822581e-01,  5.76342905e-02, -1.17198100e+00, -5.49577005e-01,\n",
       "       -7.34750451e-01, -1.79055054e+00, -7.14877721e-01, -1.19364993e+00,\n",
       "       -1.49473438e+00, -1.23295935e+00, -3.79169732e-01, -7.68135615e-01,\n",
       "       -8.61736808e-01, -3.20110152e-01, -1.34872083e+00, -1.13931470e+00,\n",
       "       -5.80734534e-01, -5.33929090e-02, -1.02737772e-01, -1.03726208e+00,\n",
       "        5.18627687e-01, -1.54213202e+00,  6.78826492e-02, -3.53517065e-01,\n",
       "       -6.37853548e-01, -7.59141550e-01, -4.64341974e-01, -9.51631880e-01,\n",
       "       -7.65620392e-01, -1.20584866e+00,  2.84251972e-01, -2.70564790e-01,\n",
       "       -6.16057967e-01, -9.08085537e-01, -1.19845625e+00, -4.06604401e-01,\n",
       "        1.97601112e-01, -5.04224003e-01, -1.22116243e+00, -7.58499728e-01,\n",
       "       -3.02873928e-01, -2.64718676e-01, -1.12439096e+00, -8.61383834e-01,\n",
       "       -2.48590541e-01,  2.22746286e-01, -2.44319138e-01, -1.92115657e+00,\n",
       "       -7.91897388e-01,  2.28505248e-01, -7.38159657e-01, -1.29121269e+00,\n",
       "       -5.02770311e-01,  4.41945241e-01, -8.55593307e-01, -6.89840382e-01,\n",
       "        3.67669480e-01, -1.39887481e-01,  1.38587369e-01, -4.01261949e-01,\n",
       "       -3.10092492e-01, -1.16450885e+00, -1.15514166e+00, -2.40006782e-01,\n",
       "       -6.95923100e-01, -5.44403235e-01,  2.34242891e-02, -3.82286429e-02,\n",
       "       -1.20073489e+00,  2.93283893e-01, -4.66060141e-01, -1.81674256e+00,\n",
       "       -3.90358691e-01,  4.38523143e-01, -2.44360483e-01,  3.39569382e-02,\n",
       "        4.96562040e-01, -5.25090552e-01, -7.90720786e-01,  2.23202373e-01,\n",
       "       -6.05523862e-01,  3.51279733e-02, -6.10672371e-01, -2.80252761e-01,\n",
       "       -4.97512461e-01, -8.28445083e-02, -4.88476763e-01, -5.02838527e-01,\n",
       "        8.76024414e-01, -5.12298935e-01, -9.70265337e-01, -8.96539100e-01,\n",
       "       -3.53083731e-01, -9.79775814e-02, -2.40882903e-01, -1.02972690e+00,\n",
       "       -5.66880076e-01, -3.87599172e-01, -5.40358107e-01, -1.24028619e+00,\n",
       "       -5.06085813e-01, -5.55509938e-01,  4.46298770e-01, -5.50330467e-01,\n",
       "        1.90738996e-02,  4.51975850e-01,  9.62343538e-01,  4.13773421e-02,\n",
       "       -3.19637880e-01,  7.54423012e-01,  3.64440040e-01,  8.06803619e-01,\n",
       "        5.10601437e-02, -9.18975485e-02,  5.20152174e-01,  8.27241617e-02,\n",
       "       -1.15321030e+00, -7.05618370e-01, -2.84895334e-01,  3.25185116e-01,\n",
       "        2.57243329e-01, -4.61222091e-01, -4.66708744e-01, -3.60185544e-01,\n",
       "       -2.25332611e-01, -2.81853349e-01,  7.64598297e-01, -4.35287114e-01,\n",
       "        9.86065855e-02,  1.42718330e-01,  1.07469965e-01,  4.37597759e-01,\n",
       "        3.62709461e-01,  2.55598311e-01, -4.39143754e-01, -2.32847034e-01,\n",
       "        4.75053043e-01, -3.90981699e-01, -2.78601732e-01,  1.44016561e-01,\n",
       "       -9.54586046e-02,  5.91961269e-02, -4.61357977e-02,  8.02251467e-01,\n",
       "        4.62054688e-02, -5.26040136e-01, -1.04744439e-01, -1.24373906e-01,\n",
       "       -1.99271745e-01, -9.24159268e-04, -3.97710932e-01,  7.87566217e-02])"
      ]
     },
     "execution_count": 61,
     "metadata": {},
     "output_type": "execute_result"
    }
   ],
   "source": [
    "noisy_data = np.sin(np.linspace(0, 2*np.pi, 1000)) + np.random.normal(0, 0.5, 1000)\n",
    "noisy_data"
   ]
  },
  {
   "cell_type": "code",
   "execution_count": 62,
   "id": "36c89c1d-e863-4369-8e73-8b478d0a35bf",
   "metadata": {
    "editable": true,
    "slideshow": {
     "slide_type": ""
    },
    "tags": []
   },
   "outputs": [
    {
     "data": {
      "image/png": "[encoded data removed]",
      "text/plain": [
       "<Figure size 640x480 with 1 Axes>"
      ]
     },
     "metadata": {},
     "output_type": "display_data"
    }
   ],
   "source": [
    "plt.plot(noisy_data);"
   ]
  },
  {
   "cell_type": "markdown",
   "id": "47c31ae0-cdd2-4a58-be7d-4f93ed369e0c",
   "metadata": {
    "editable": true,
    "slideshow": {
     "slide_type": "slide"
    },
    "tags": []
   },
   "source": [
    "That is, replace every 10 consecutive array elements with their average value, reducing the number of array elements from 1000 to 100, but representing the same curve (ranging from ‒1 to 1)."
   ]
  },
  {
   "cell_type": "markdown",
   "id": "f0764762-5480-4a83-a3c3-16bef972cd0e",
   "metadata": {
    "editable": true,
    "slideshow": {
     "slide_type": ""
    },
    "tags": []
   },
   "source": [
    "<br>"
   ]
  },
  {
   "cell_type": "code",
   "execution_count": null,
   "id": "47a0c4a2-18ec-49bb-91f7-20e5e572deda",
   "metadata": {},
   "outputs": [],
   "source": []
  },
  {
   "cell_type": "code",
   "execution_count": 63,
   "id": "69388f79-0cb4-455f-860e-6e99e7d0a236",
   "metadata": {
    "editable": true,
    "slideshow": {
     "slide_type": "fragment"
    },
    "tags": []
   },
   "outputs": [
    {
     "data": {
      "image/png": "[encoded data removed]",
      "text/plain": [
       "<Figure size 640x480 with 1 Axes>"
      ]
     },
     "metadata": {},
     "output_type": "display_data"
    }
   ],
   "source": [
    "plt.plot(np.sum(noisy_data.reshape(-1, 10), axis=1));"
   ]
  },
  {
   "cell_type": "code",
   "execution_count": null,
   "id": "4873221d-d5df-4e74-bc09-a4ad2d56c2d1",
   "metadata": {},
   "outputs": [],
   "source": []
  }
 ],
 "metadata": {
  "kernelspec": {
   "display_name": "Python 3 (ipykernel)",
   "language": "python",
   "name": "python3"
  },
  "language_info": {
   "codemirror_mode": {
    "name": "ipython",
    "version": 3
   },
   "file_extension": ".py",
   "mimetype": "text/x-python",
   "name": "python",
   "nbconvert_exporter": "python",
   "pygments_lexer": "ipython3",
   "version": "3.10.18"
  }
 },
 "nbformat": 4,
 "nbformat_minor": 5
}
